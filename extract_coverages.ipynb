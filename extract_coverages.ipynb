{
 "cells": [
  {
   "cell_type": "markdown",
   "metadata": {},
   "source": [
    "# creating a function to extract all the coverage depths for the alignments I want in this directory"
   ]
  },
  {
   "cell_type": "markdown",
   "metadata": {},
   "source": [
    "---"
   ]
  },
  {
   "cell_type": "markdown",
   "metadata": {},
   "source": [
    "## 1 - messing around with `os` module to get file naming correct"
   ]
  },
  {
   "cell_type": "code",
   "execution_count": 1,
   "metadata": {},
   "outputs": [],
   "source": [
    "import os\n",
    "import sys"
   ]
  },
  {
   "cell_type": "code",
   "execution_count": 2,
   "metadata": {
    "scrolled": true
   },
   "outputs": [],
   "source": [
    "#dir(os.path)"
   ]
  },
  {
   "cell_type": "code",
   "execution_count": 3,
   "metadata": {},
   "outputs": [
    {
     "name": "stdout",
     "output_type": "stream",
     "text": [
      "\u001b[34m29-mers-orf_coding-FILTERED1-alignment--norc-a-v2-p4\u001b[m\u001b[m/\r\n",
      "\u001b[34m29-mers-orf_coding-FILTERED1-alignment--norc-k1-v2-p4\u001b[m\u001b[m/\r\n",
      "\u001b[34m29-mers-orf_coding-FILTERED1-alignment--norc-v2-p4-m1\u001b[m\u001b[m/\r\n",
      "\u001b[34mSRR948553_BBduk2_NEBtrim-rRNA-bbmap_trim_29-alignment--norc-a-v2-p4\u001b[m\u001b[m/\r\n",
      "\u001b[34mSRR948553_BBduk2_NEBtrim-rRNA-bbmap_trim_29-alignment--norc-k1-v2-p4\u001b[m\u001b[m/\r\n",
      "\u001b[34mSRR948553_BBduk2_NEBtrim-rRNA-bbmap_trim_29-alignment--norc-v2-p4-m1\u001b[m\u001b[m/\r\n",
      "\u001b[34mSRR948555_BBduk2_NEBtrim-rRNA-bbmap_trim_29-alignment--norc-a-v2-p4\u001b[m\u001b[m/\r\n",
      "\u001b[34mSRR948555_BBduk2_NEBtrim-rRNA-bbmap_trim_29-alignment--norc-k1-v2-p4\u001b[m\u001b[m/\r\n",
      "\u001b[34mSRR948555_BBduk2_NEBtrim-rRNA-bbmap_trim_29-alignment--norc-v2-p4-m1\u001b[m\u001b[m/\r\n",
      "Untitled.ipynb\r\n",
      "bam_files.txt\r\n",
      "readme.md\r\n"
     ]
    }
   ],
   "source": [
    "ls"
   ]
  },
  {
   "cell_type": "code",
   "execution_count": 4,
   "metadata": {},
   "outputs": [
    {
     "name": "stdout",
     "output_type": "stream",
     "text": [
      "./SRR948553_BBduk2_NEBtrim-rRNA-bbmap_trim_29-alignment--norc-a-v2-p4/SRR948553_BBduk2_NEBtrim-rRNA-bbmap_trim_29--norc-a-v2-p4.sorted.bam\r\n",
      "./SRR948553_BBduk2_NEBtrim-rRNA-bbmap_trim_29-alignment--norc-k1-v2-p4/SRR948553_BBduk2_NEBtrim-rRNA-bbmap_trim_29--norc-k1-v2-p4.sorted.bam\r\n",
      "./SRR948553_BBduk2_NEBtrim-rRNA-bbmap_trim_29-alignment--norc-v2-p4-m1/SRR948553_BBduk2_NEBtrim-rRNA-bbmap_trim_29--norc-v2-p4-m1.sorted.bam\r\n",
      "./SRR948555_BBduk2_NEBtrim-rRNA-bbmap_trim_29-alignment--norc-a-v2-p4/SRR948555_BBduk2_NEBtrim-rRNA-bbmap_trim_29--norc-a-v2-p4.sorted.bam\r\n",
      "./SRR948555_BBduk2_NEBtrim-rRNA-bbmap_trim_29-alignment--norc-k1-v2-p4/SRR948555_BBduk2_NEBtrim-rRNA-bbmap_trim_29--norc-k1-v2-p4.sorted.bam\r\n",
      "./SRR948555_BBduk2_NEBtrim-rRNA-bbmap_trim_29-alignment--norc-v2-p4-m1/SRR948555_BBduk2_NEBtrim-rRNA-bbmap_trim_29--norc-v2-p4-m1.sorted.bam\r\n"
     ]
    }
   ],
   "source": [
    "!cat bam_files.txt"
   ]
  },
  {
   "cell_type": "code",
   "execution_count": 14,
   "metadata": {},
   "outputs": [
    {
     "data": {
      "text/plain": [
       "'SRR948553_BBduk2_NEBtrim-rRNA-bbmap_trim_29--norc-a-v2-p4.sorted.bam'"
      ]
     },
     "execution_count": 14,
     "metadata": {},
     "output_type": "execute_result"
    }
   ],
   "source": [
    "base = os.path.basename('./SRR948553_BBduk2_NEBtrim-rRNA-bbmap_trim_29-alignment--norc-a-v2-p4/SRR948553_BBduk2_NEBtrim-rRNA-bbmap_trim_29--norc-a-v2-p4.sorted.bam')\n",
    "base\n"
   ]
  },
  {
   "cell_type": "code",
   "execution_count": 7,
   "metadata": {},
   "outputs": [
    {
     "data": {
      "text/plain": [
       "'./SRR948553_BBduk2_NEBtrim-rRNA-bbmap_trim_29-alignment--norc-a-v2-p4'"
      ]
     },
     "execution_count": 7,
     "metadata": {},
     "output_type": "execute_result"
    }
   ],
   "source": [
    "directory = os.path.dirname('./SRR948553_BBduk2_NEBtrim-rRNA-bbmap_trim_29-alignment--norc-a-v2-p4/SRR948553_BBduk2_NEBtrim-rRNA-bbmap_trim_29--norc-a-v2-p4.sorted.bam')\n",
    "directory"
   ]
  },
  {
   "cell_type": "code",
   "execution_count": 10,
   "metadata": {},
   "outputs": [
    {
     "data": {
      "text/plain": [
       "'./SRR948553_BBduk2_NEBtrim-rRNA-bbmap_trim_29-alignment--norc-a-v2-p4/SRR948553_BBduk2_NEBtrim-rRNA-bbmap_trim_29--norc-a-v2-p4.sorted.bam'"
      ]
     },
     "execution_count": 10,
     "metadata": {},
     "output_type": "execute_result"
    }
   ],
   "source": [
    "full = os.path.join(directory,base)\n",
    "full"
   ]
  },
  {
   "cell_type": "code",
   "execution_count": 1,
   "metadata": {
    "scrolled": true
   },
   "outputs": [],
   "source": [
    "import subprocess\n",
    "# dir(subprocess)"
   ]
  },
  {
   "cell_type": "code",
   "execution_count": 15,
   "metadata": {},
   "outputs": [
    {
     "data": {
      "text/plain": [
       "('SRR948553_BBduk2_NEBtrim-rRNA-bbmap_trim_29--norc-a-v2-p4.sorted', '.bam')"
      ]
     },
     "execution_count": 15,
     "metadata": {},
     "output_type": "execute_result"
    }
   ],
   "source": [
    "os.path.splitext(base)"
   ]
  },
  {
   "cell_type": "markdown",
   "metadata": {},
   "source": [
    "### the `.sorted.bam` is a problem.  Just split the string on `.` instead of using `os` module"
   ]
  },
  {
   "cell_type": "code",
   "execution_count": 20,
   "metadata": {},
   "outputs": [
    {
     "data": {
      "text/plain": [
       "['SRR948553_BBduk2_NEBtrim-rRNA-bbmap_trim_29--norc-a-v2-p4', 'sorted', 'bam']"
      ]
     },
     "execution_count": 20,
     "metadata": {},
     "output_type": "execute_result"
    }
   ],
   "source": [
    "base.split('.')"
   ]
  },
  {
   "cell_type": "markdown",
   "metadata": {},
   "source": [
    "---"
   ]
  },
  {
   "cell_type": "markdown",
   "metadata": {},
   "source": [
    "## 2 - make the bedtools function and run on each file in my file list"
   ]
  },
  {
   "cell_type": "markdown",
   "metadata": {},
   "source": [
    "### shell command: `bedtools genomecov -d -ibam [sorted bam file] | gzip > [file.tsv.gz]`"
   ]
  },
  {
   "cell_type": "code",
   "execution_count": 21,
   "metadata": {},
   "outputs": [],
   "source": [
    "def genomecov(filename):\n",
    "    base = os.path.basename(filename)\n",
    "    basenoext = base.split('.')[0]\n",
    "    directory = os.path.dirname(filename)\n",
    "    subprocess.call('bedtools genomecov -d -ibam {} | gzip > {}'.format(filename, os.path.join(directory, basenoext + '-cov_dep.tsv.gz')), shell = True)\n",
    "    "
   ]
  },
  {
   "cell_type": "code",
   "execution_count": 22,
   "metadata": {},
   "outputs": [],
   "source": [
    "files = ['./SRR948553_BBduk2_NEBtrim-rRNA-bbmap_trim_29-alignment--norc-a-v2-p4/SRR948553_BBduk2_NEBtrim-rRNA-bbmap_trim_29--norc-a-v2-p4.sorted.bam',\n",
    "'./SRR948553_BBduk2_NEBtrim-rRNA-bbmap_trim_29-alignment--norc-k1-v2-p4/SRR948553_BBduk2_NEBtrim-rRNA-bbmap_trim_29--norc-k1-v2-p4.sorted.bam',\n",
    "'./SRR948553_BBduk2_NEBtrim-rRNA-bbmap_trim_29-alignment--norc-v2-p4-m1/SRR948553_BBduk2_NEBtrim-rRNA-bbmap_trim_29--norc-v2-p4-m1.sorted.bam',\n",
    "'./SRR948555_BBduk2_NEBtrim-rRNA-bbmap_trim_29-alignment--norc-a-v2-p4/SRR948555_BBduk2_NEBtrim-rRNA-bbmap_trim_29--norc-a-v2-p4.sorted.bam',\n",
    "'./SRR948555_BBduk2_NEBtrim-rRNA-bbmap_trim_29-alignment--norc-k1-v2-p4/SRR948555_BBduk2_NEBtrim-rRNA-bbmap_trim_29--norc-k1-v2-p4.sorted.bam',\n",
    "'./SRR948555_BBduk2_NEBtrim-rRNA-bbmap_trim_29-alignment--norc-v2-p4-m1/SRR948555_BBduk2_NEBtrim-rRNA-bbmap_trim_29--norc-v2-p4-m1.sorted.bam']"
   ]
  },
  {
   "cell_type": "code",
   "execution_count": 23,
   "metadata": {},
   "outputs": [],
   "source": [
    "genomecov(files[0])"
   ]
  },
  {
   "cell_type": "code",
   "execution_count": 24,
   "metadata": {},
   "outputs": [],
   "source": [
    "for i in files:\n",
    "    genomecov(i)"
   ]
  },
  {
   "cell_type": "markdown",
   "metadata": {},
   "source": [
    "### took about 15 minutes to run I would guess."
   ]
  },
  {
   "cell_type": "code",
   "execution_count": null,
   "metadata": {},
   "outputs": [],
   "source": []
  }
 ],
 "metadata": {
  "kernelspec": {
   "display_name": "Python 3",
   "language": "python",
   "name": "python3"
  },
  "language_info": {
   "codemirror_mode": {
    "name": "ipython",
    "version": 3
   },
   "file_extension": ".py",
   "mimetype": "text/x-python",
   "name": "python",
   "nbconvert_exporter": "python",
   "pygments_lexer": "ipython3",
   "version": "3.6.4"
  }
 },
 "nbformat": 4,
 "nbformat_minor": 2
}
