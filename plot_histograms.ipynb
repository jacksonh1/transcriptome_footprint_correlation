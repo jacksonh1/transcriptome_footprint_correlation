{
 "cells": [
  {
   "cell_type": "markdown",
   "metadata": {},
   "source": [
    "# import transcriptome coverages and make histograms"
   ]
  },
  {
   "cell_type": "code",
   "execution_count": 1,
   "metadata": {},
   "outputs": [
    {
     "name": "stdout",
     "output_type": "stream",
     "text": [
      "SRR948553-bb-trim29-a-v2_vs_SRR948555-bb-trim29-a-v2_correlation_table.csv\r\n",
      "SRR948553-bb-trim29-k1-v2_vs_SRR948555-bb-trim29-k1-v2_correlation_table.csv\r\n",
      "SRR948553-bb-trim29-v2-m1_vs_SRR948555-bb-trim29-v2-m1_correlation_table.csv\r\n"
     ]
    }
   ],
   "source": [
    "!ls *.csv"
   ]
  },
  {
   "cell_type": "code",
   "execution_count": 4,
   "metadata": {},
   "outputs": [],
   "source": [
    "%matplotlib inline\n",
    "import numpy as np\n",
    "import matplotlib.pyplot as plt\n",
    "import pandas as pd\n",
    "import glob, os\n",
    "np.set_printoptions(suppress=True)\n",
    "from optimal_colors import op_colors\n",
    "from matplotlib import cycler\n",
    "colors = cycler('color',op_colors())\n",
    "# colors = cycler('color', ['#bb2c23', '#3388BB', '#7458e2', '#31b93b', '#f57f1f', '#2fded9'])\n",
    "plt.rc('axes', facecolor='w', edgecolor='k',\n",
    "       linewidth=1.5, grid=False, prop_cycle=colors, labelcolor='k')\n",
    "plt.rc('grid', color='k', linestyle='solid', linewidth=0)\n",
    "plt.rc('xtick', direction='in', color='k')\n",
    "plt.rc('xtick.major', width=1.5, size=5)\n",
    "plt.rc('ytick', direction='in', color='k')\n",
    "plt.rc('ytick.major', width=1.5, size=5)\n",
    "plt.rc('patch', edgecolor='k', linewidth=1,\n",
    "       force_edgecolor=True)  # patch is like bar\n",
    "plt.rc('lines', linewidth=1.5)\n",
    "plt.rc('font', size=16, **{'family': 'sans-serif', 'sans-serif': ['Arial']})\n",
    "plt.rc('figure', figsize=(11, 7))\n",
    "plt.rc('text',color='k')\n",
    "# plt.rcParams.keys()\n",
    "plt.rcParams.update()"
   ]
  },
  {
   "cell_type": "code",
   "execution_count": 8,
   "metadata": {},
   "outputs": [
    {
     "data": {
      "text/html": [
       "<div>\n",
       "<style scoped>\n",
       "    .dataframe tbody tr th:only-of-type {\n",
       "        vertical-align: middle;\n",
       "    }\n",
       "\n",
       "    .dataframe tbody tr th {\n",
       "        vertical-align: top;\n",
       "    }\n",
       "\n",
       "    .dataframe thead th {\n",
       "        text-align: right;\n",
       "    }\n",
       "</style>\n",
       "<table border=\"1\" class=\"dataframe\">\n",
       "  <thead>\n",
       "    <tr style=\"text-align: right;\">\n",
       "      <th></th>\n",
       "      <th>transc</th>\n",
       "      <th>R (pearson correlation)</th>\n",
       "      <th>R squared</th>\n",
       "    </tr>\n",
       "  </thead>\n",
       "  <tbody>\n",
       "    <tr>\n",
       "      <th>0</th>\n",
       "      <td>Q0045</td>\n",
       "      <td>-0.032475</td>\n",
       "      <td>0.001055</td>\n",
       "    </tr>\n",
       "    <tr>\n",
       "      <th>1</th>\n",
       "      <td>Q0050</td>\n",
       "      <td>0.992248</td>\n",
       "      <td>0.984557</td>\n",
       "    </tr>\n",
       "    <tr>\n",
       "      <th>4</th>\n",
       "      <td>Q0065</td>\n",
       "      <td>-0.025201</td>\n",
       "      <td>0.000635</td>\n",
       "    </tr>\n",
       "    <tr>\n",
       "      <th>5</th>\n",
       "      <td>Q0070</td>\n",
       "      <td>-0.022175</td>\n",
       "      <td>0.000492</td>\n",
       "    </tr>\n",
       "    <tr>\n",
       "      <th>8</th>\n",
       "      <td>Q0085</td>\n",
       "      <td>0.068614</td>\n",
       "      <td>0.004708</td>\n",
       "    </tr>\n",
       "  </tbody>\n",
       "</table>\n",
       "</div>"
      ],
      "text/plain": [
       "  transc  R (pearson correlation)  R squared\n",
       "0  Q0045                -0.032475   0.001055\n",
       "1  Q0050                 0.992248   0.984557\n",
       "4  Q0065                -0.025201   0.000635\n",
       "5  Q0070                -0.022175   0.000492\n",
       "8  Q0085                 0.068614   0.004708"
      ]
     },
     "execution_count": 8,
     "metadata": {},
     "output_type": "execute_result"
    }
   ],
   "source": [
    "corrA = pd.read_csv('SRR948553-bb-trim29-a-v2_vs_SRR948555-bb-trim29-a-v2_correlation_table.csv').dropna()\n",
    "corrA.head()"
   ]
  },
  {
   "cell_type": "code",
   "execution_count": 9,
   "metadata": {},
   "outputs": [
    {
     "data": {
      "text/html": [
       "<div>\n",
       "<style scoped>\n",
       "    .dataframe tbody tr th:only-of-type {\n",
       "        vertical-align: middle;\n",
       "    }\n",
       "\n",
       "    .dataframe tbody tr th {\n",
       "        vertical-align: top;\n",
       "    }\n",
       "\n",
       "    .dataframe thead th {\n",
       "        text-align: right;\n",
       "    }\n",
       "</style>\n",
       "<table border=\"1\" class=\"dataframe\">\n",
       "  <thead>\n",
       "    <tr style=\"text-align: right;\">\n",
       "      <th></th>\n",
       "      <th>R (pearson correlation)</th>\n",
       "      <th>R squared</th>\n",
       "    </tr>\n",
       "  </thead>\n",
       "  <tbody>\n",
       "    <tr>\n",
       "      <th>count</th>\n",
       "      <td>5641.000000</td>\n",
       "      <td>5.641000e+03</td>\n",
       "    </tr>\n",
       "    <tr>\n",
       "      <th>mean</th>\n",
       "      <td>0.557968</td>\n",
       "      <td>3.710349e-01</td>\n",
       "    </tr>\n",
       "    <tr>\n",
       "      <th>std</th>\n",
       "      <td>0.244371</td>\n",
       "      <td>2.425619e-01</td>\n",
       "    </tr>\n",
       "    <tr>\n",
       "      <th>min</th>\n",
       "      <td>-0.358832</td>\n",
       "      <td>1.832503e-08</td>\n",
       "    </tr>\n",
       "    <tr>\n",
       "      <th>25%</th>\n",
       "      <td>0.415427</td>\n",
       "      <td>1.725798e-01</td>\n",
       "    </tr>\n",
       "    <tr>\n",
       "      <th>50%</th>\n",
       "      <td>0.594558</td>\n",
       "      <td>3.534992e-01</td>\n",
       "    </tr>\n",
       "    <tr>\n",
       "      <th>75%</th>\n",
       "      <td>0.737538</td>\n",
       "      <td>5.439626e-01</td>\n",
       "    </tr>\n",
       "    <tr>\n",
       "      <th>max</th>\n",
       "      <td>0.999885</td>\n",
       "      <td>9.997692e-01</td>\n",
       "    </tr>\n",
       "  </tbody>\n",
       "</table>\n",
       "</div>"
      ],
      "text/plain": [
       "       R (pearson correlation)     R squared\n",
       "count              5641.000000  5.641000e+03\n",
       "mean                  0.557968  3.710349e-01\n",
       "std                   0.244371  2.425619e-01\n",
       "min                  -0.358832  1.832503e-08\n",
       "25%                   0.415427  1.725798e-01\n",
       "50%                   0.594558  3.534992e-01\n",
       "75%                   0.737538  5.439626e-01\n",
       "max                   0.999885  9.997692e-01"
      ]
     },
     "execution_count": 9,
     "metadata": {},
     "output_type": "execute_result"
    }
   ],
   "source": [
    "corrA.describe()"
   ]
  },
  {
   "cell_type": "markdown",
   "metadata": {},
   "source": [
    "## it might also be good to know the total read counts here"
   ]
  },
  {
   "cell_type": "code",
   "execution_count": 17,
   "metadata": {},
   "outputs": [
    {
     "name": "stdout",
     "output_type": "stream",
     "text": [
      "./SRR948553_BBduk2_NEBtrim-rRNA-bbmap_trim_29-alignment--norc-a-v2-p4/SRR948553_BBduk2_NEBtrim-rRNA-bbmap_trim_29--norc-a-v2-p4-aligns_per_gene.txt\r\n",
      "./SRR948553_BBduk2_NEBtrim-rRNA-bbmap_trim_29-alignment--norc-k1-v2-p4/SRR948553_BBduk2_NEBtrim-rRNA-bbmap_trim_29--norc-k1-v2-p4-aligns_per_gene.txt\r\n",
      "./SRR948553_BBduk2_NEBtrim-rRNA-bbmap_trim_29-alignment--norc-v2-p4-m1/SRR948553_BBduk2_NEBtrim-rRNA-bbmap_trim_29--norc-v2-p4-m1-aligns_per_gene.txt\r\n",
      "./SRR948555_BBduk2_NEBtrim-rRNA-bbmap_trim_29-alignment--norc-a-v2-p4/SRR948555_BBduk2_NEBtrim-rRNA-bbmap_trim_29--norc-a-v2-p4-aligns_per_gene.txt\r\n",
      "./SRR948555_BBduk2_NEBtrim-rRNA-bbmap_trim_29-alignment--norc-k1-v2-p4/SRR948555_BBduk2_NEBtrim-rRNA-bbmap_trim_29--norc-k1-v2-p4-aligns_per_gene.txt\r\n",
      "./SRR948555_BBduk2_NEBtrim-rRNA-bbmap_trim_29-alignment--norc-v2-p4-m1/SRR948555_BBduk2_NEBtrim-rRNA-bbmap_trim_29--norc-v2-p4-m1-aligns_per_gene.txt\r\n"
     ]
    }
   ],
   "source": [
    "!find . -name \"*-aligns_per_gene.txt\" ! -name \"*-a_suppr_realigned-aligns_per_gene.txt\" ! -name \"29-mers-orf_coding-FILTERED1*\""
   ]
  },
  {
   "cell_type": "code",
   "execution_count": 22,
   "metadata": {},
   "outputs": [
    {
     "data": {
      "text/plain": [
       "<matplotlib.axes._subplots.AxesSubplot at 0x113101828>"
      ]
     },
     "execution_count": 22,
     "metadata": {},
     "output_type": "execute_result"
    },
    {
     "data": {
      "image/png": "[encoded data removed]",
      "text/plain": [
       "<matplotlib.figure.Figure at 0x11302d390>"
      ]
     },
     "metadata": {},
     "output_type": "display_data"
    }
   ],
   "source": [
    "# corrA[corrA['R squared']>0.01]['R squared'].hist(bins = 50)\n",
    "corrA['R squared'].hist(bins = 50)"
   ]
  },
  {
   "cell_type": "markdown",
   "metadata": {},
   "source": [
    "## alignments with -a:\n",
    "- **correlation:** `SRR948553-bb-trim29-a-v2_vs_SRR948555-bb-trim29-a-v2_correlation_table.csv`\n",
    "- **SRR948553 align counts:** `./SRR948553_BBduk2_NEBtrim-rRNA-bbmap_trim_29-alignment--norc-a-v2-p4/SRR948553_BBduk2_NEBtrim-rRNA-bbmap_trim_29--norc-a-v2-p4-aligns_per_gene.txt`\n",
    "- **SRR948555 align counts:** `./SRR948555_BBduk2_NEBtrim-rRNA-bbmap_trim_29-alignment--norc-a-v2-p4/SRR948555_BBduk2_NEBtrim-rRNA-bbmap_trim_29--norc-a-v2-p4-aligns_per_gene.txt`\n",
    "\n",
    "## alignments with -m 1:\n",
    "- **correlation:** `SRR948553-bb-trim29-v2-m1_vs_SRR948555-bb-trim29-v2-m1_correlation_table.csv`\n",
    "- **SRR948553 align counts:** `./SRR948553_BBduk2_NEBtrim-rRNA-bbmap_trim_29-alignment--norc-v2-p4-m1/SRR948553_BBduk2_NEBtrim-rRNA-bbmap_trim_29--norc-v2-p4-m1-aligns_per_gene.txt`\n",
    "- **SRR948555 align counts:** `./SRR948555_BBduk2_NEBtrim-rRNA-bbmap_trim_29-alignment--norc-v2-p4-m1/SRR948555_BBduk2_NEBtrim-rRNA-bbmap_trim_29--norc-v2-p4-m1-aligns_per_gene.txt`\n",
    "\n",
    "## alignments with -k 1:\n",
    "- **correlation:** `SRR948553-bb-trim29-k1-v2_vs_SRR948555-bb-trim29-k1-v2_correlation_table.csv`\n",
    "- **SRR948553 align counts:** `./SRR948553_BBduk2_NEBtrim-rRNA-bbmap_trim_29-alignment--norc-k1-v2-p4/SRR948553_BBduk2_NEBtrim-rRNA-bbmap_trim_29--norc-k1-v2-p4-aligns_per_gene.txt`\n",
    "- **SRR948555 align counts:** `./SRR948555_BBduk2_NEBtrim-rRNA-bbmap_trim_29-alignment--norc-k1-v2-p4/SRR948555_BBduk2_NEBtrim-rRNA-bbmap_trim_29--norc-k1-v2-p4-aligns_per_gene.txt`"
   ]
  },
  {
   "cell_type": "code",
   "execution_count": 32,
   "metadata": {},
   "outputs": [],
   "source": [
    "filedict = {}"
   ]
  },
  {
   "cell_type": "code",
   "execution_count": 33,
   "metadata": {},
   "outputs": [
    {
     "data": {
      "text/plain": [
       "{'a': ('SRR948553-bb-trim29-a-v2_vs_SRR948555-bb-trim29-a-v2_correlation_table.csv',\n",
       "  './SRR948553_BBduk2_NEBtrim-rRNA-bbmap_trim_29-alignment--norc-a-v2-p4/SRR948553_BBduk2_NEBtrim-rRNA-bbmap_trim_29--norc-a-v2-p4-aligns_per_gene.txt',\n",
       "  './SRR948555_BBduk2_NEBtrim-rRNA-bbmap_trim_29-alignment--norc-a-v2-p4/SRR948555_BBduk2_NEBtrim-rRNA-bbmap_trim_29--norc-a-v2-p4-aligns_per_gene.txt')}"
      ]
     },
     "execution_count": 33,
     "metadata": {},
     "output_type": "execute_result"
    }
   ],
   "source": [
    "a_corr_path = 'SRR948553-bb-trim29-a-v2_vs_SRR948555-bb-trim29-a-v2_correlation_table.csv'\n",
    "R553_a_counts_path = './SRR948553_BBduk2_NEBtrim-rRNA-bbmap_trim_29-alignment--norc-a-v2-p4/SRR948553_BBduk2_NEBtrim-rRNA-bbmap_trim_29--norc-a-v2-p4-aligns_per_gene.txt'\n",
    "R555_a_counts_path = './SRR948555_BBduk2_NEBtrim-rRNA-bbmap_trim_29-alignment--norc-a-v2-p4/SRR948555_BBduk2_NEBtrim-rRNA-bbmap_trim_29--norc-a-v2-p4-aligns_per_gene.txt'\n",
    "filedict['a'] = (a_corr_path, R553_a_counts_path, R555_a_counts_path)\n",
    "filedict"
   ]
  },
  {
   "cell_type": "code",
   "execution_count": 34,
   "metadata": {},
   "outputs": [],
   "source": [
    "m1_corr_path = 'SRR948553-bb-trim29-v2-m1_vs_SRR948555-bb-trim29-v2-m1_correlation_table.csv'\n",
    "R553_m1_counts_path = './SRR948553_BBduk2_NEBtrim-rRNA-bbmap_trim_29-alignment--norc-v2-p4-m1/SRR948553_BBduk2_NEBtrim-rRNA-bbmap_trim_29--norc-v2-p4-m1-aligns_per_gene.txt'\n",
    "R555_m1_counts_path = './SRR948555_BBduk2_NEBtrim-rRNA-bbmap_trim_29-alignment--norc-v2-p4-m1/SRR948555_BBduk2_NEBtrim-rRNA-bbmap_trim_29--norc-v2-p4-m1-aligns_per_gene.txt'\n",
    "filedict['m1'] = (m1_corr_path, R553_m1_counts_path, R555_m1_counts_path)\n",
    "\n",
    "k1_corr_path = 'SRR948553-bb-trim29-k1-v2_vs_SRR948555-bb-trim29-k1-v2_correlation_table.csv'\n",
    "R553_k1_counts_path = './SRR948553_BBduk2_NEBtrim-rRNA-bbmap_trim_29-alignment--norc-k1-v2-p4/SRR948553_BBduk2_NEBtrim-rRNA-bbmap_trim_29--norc-k1-v2-p4-aligns_per_gene.txt'\n",
    "R555_k1_counts_path = './SRR948555_BBduk2_NEBtrim-rRNA-bbmap_trim_29-alignment--norc-k1-v2-p4/SRR948555_BBduk2_NEBtrim-rRNA-bbmap_trim_29--norc-k1-v2-p4-aligns_per_gene.txt'\n",
    "filedict['k1'] = (k1_corr_path, R553_k1_counts_path, R555_k1_counts_path)"
   ]
  },
  {
   "cell_type": "code",
   "execution_count": 41,
   "metadata": {},
   "outputs": [
    {
     "name": "stdout",
     "output_type": "stream",
     "text": [
      "{'a': ('SRR948553-bb-trim29-a-v2_vs_SRR948555-bb-trim29-a-v2_correlation_table.csv',\n",
      "       './SRR948553_BBduk2_NEBtrim-rRNA-bbmap_trim_29-alignment--norc-a-v2-p4/SRR948553_BBduk2_NEBtrim-rRNA-bbmap_trim_29--norc-a-v2-p4-aligns_per_gene.txt',\n",
      "       './SRR948555_BBduk2_NEBtrim-rRNA-bbmap_trim_29-alignment--norc-a-v2-p4/SRR948555_BBduk2_NEBtrim-rRNA-bbmap_trim_29--norc-a-v2-p4-aligns_per_gene.txt'),\n",
      " 'k1': ('SRR948553-bb-trim29-k1-v2_vs_SRR948555-bb-trim29-k1-v2_correlation_table.csv',\n",
      "        './SRR948553_BBduk2_NEBtrim-rRNA-bbmap_trim_29-alignment--norc-k1-v2-p4/SRR948553_BBduk2_NEBtrim-rRNA-bbmap_trim_29--norc-k1-v2-p4-aligns_per_gene.txt',\n",
      "        './SRR948555_BBduk2_NEBtrim-rRNA-bbmap_trim_29-alignment--norc-k1-v2-p4/SRR948555_BBduk2_NEBtrim-rRNA-bbmap_trim_29--norc-k1-v2-p4-aligns_per_gene.txt'),\n",
      " 'm1': ('SRR948553-bb-trim29-v2-m1_vs_SRR948555-bb-trim29-v2-m1_correlation_table.csv',\n",
      "        './SRR948553_BBduk2_NEBtrim-rRNA-bbmap_trim_29-alignment--norc-v2-p4-m1/SRR948553_BBduk2_NEBtrim-rRNA-bbmap_trim_29--norc-v2-p4-m1-aligns_per_gene.txt',\n",
      "        './SRR948555_BBduk2_NEBtrim-rRNA-bbmap_trim_29-alignment--norc-v2-p4-m1/SRR948555_BBduk2_NEBtrim-rRNA-bbmap_trim_29--norc-v2-p4-m1-aligns_per_gene.txt')}\n"
     ]
    }
   ],
   "source": [
    "import pprint\n",
    "pprint.pprint(filedict)"
   ]
  },
  {
   "cell_type": "markdown",
   "metadata": {},
   "source": [
    "could also have put the paths in a dictionary or a list or a dictionary with tuples\n",
    "\n",
    "I don't know what's better"
   ]
  },
  {
   "cell_type": "code",
   "execution_count": 48,
   "metadata": {},
   "outputs": [],
   "source": [
    "def importdf(filename,var_name):\n",
    "    df = pd.read_table(filename, sep='\\t', header=None, names=['gene', 'length', var_name, 'junk'])\n",
    "    df = df[df['gene'] != '*']\n",
    "    df = df.drop(['junk','length'], axis=1)\n",
    "#     df = df.set_index('gene')\n",
    "    return df"
   ]
  },
  {
   "cell_type": "code",
   "execution_count": 43,
   "metadata": {
    "scrolled": true
   },
   "outputs": [
    {
     "data": {
      "text/html": [
       "<div>\n",
       "<style scoped>\n",
       "    .dataframe tbody tr th:only-of-type {\n",
       "        vertical-align: middle;\n",
       "    }\n",
       "\n",
       "    .dataframe tbody tr th {\n",
       "        vertical-align: top;\n",
       "    }\n",
       "\n",
       "    .dataframe thead th {\n",
       "        text-align: right;\n",
       "    }\n",
       "</style>\n",
       "<table border=\"1\" class=\"dataframe\">\n",
       "  <thead>\n",
       "    <tr style=\"text-align: right;\">\n",
       "      <th></th>\n",
       "      <th>gene</th>\n",
       "      <th>length</th>\n",
       "      <th>counts</th>\n",
       "      <th>junk</th>\n",
       "    </tr>\n",
       "  </thead>\n",
       "  <tbody>\n",
       "    <tr>\n",
       "      <th>0</th>\n",
       "      <td>YAL001C</td>\n",
       "      <td>3483</td>\n",
       "      <td>431</td>\n",
       "      <td>0</td>\n",
       "    </tr>\n",
       "    <tr>\n",
       "      <th>1</th>\n",
       "      <td>YAL002W</td>\n",
       "      <td>3825</td>\n",
       "      <td>287</td>\n",
       "      <td>0</td>\n",
       "    </tr>\n",
       "    <tr>\n",
       "      <th>2</th>\n",
       "      <td>YAL003W</td>\n",
       "      <td>621</td>\n",
       "      <td>30501</td>\n",
       "      <td>0</td>\n",
       "    </tr>\n",
       "    <tr>\n",
       "      <th>3</th>\n",
       "      <td>YAL005C</td>\n",
       "      <td>1929</td>\n",
       "      <td>114671</td>\n",
       "      <td>0</td>\n",
       "    </tr>\n",
       "    <tr>\n",
       "      <th>4</th>\n",
       "      <td>YAL007C</td>\n",
       "      <td>648</td>\n",
       "      <td>1644</td>\n",
       "      <td>0</td>\n",
       "    </tr>\n",
       "  </tbody>\n",
       "</table>\n",
       "</div>"
      ],
      "text/plain": [
       "      gene  length  counts  junk\n",
       "0  YAL001C    3483     431     0\n",
       "1  YAL002W    3825     287     0\n",
       "2  YAL003W     621   30501     0\n",
       "3  YAL005C    1929  114671     0\n",
       "4  YAL007C     648    1644     0"
      ]
     },
     "execution_count": 43,
     "metadata": {},
     "output_type": "execute_result"
    }
   ],
   "source": [
    "pd.read_table('./SRR948553_BBduk2_NEBtrim-rRNA-bbmap_trim_29-alignment--norc-a-v2-p4/SRR948553_BBduk2_NEBtrim-rRNA-bbmap_trim_29--norc-a-v2-p4-aligns_per_gene.txt', sep='\\t', header=None, names=['gene', 'length', 'counts', 'junk']).head()"
   ]
  },
  {
   "cell_type": "code",
   "execution_count": 49,
   "metadata": {
    "scrolled": true
   },
   "outputs": [
    {
     "data": {
      "text/html": [
       "<div>\n",
       "<style scoped>\n",
       "    .dataframe tbody tr th:only-of-type {\n",
       "        vertical-align: middle;\n",
       "    }\n",
       "\n",
       "    .dataframe tbody tr th {\n",
       "        vertical-align: top;\n",
       "    }\n",
       "\n",
       "    .dataframe thead th {\n",
       "        text-align: right;\n",
       "    }\n",
       "</style>\n",
       "<table border=\"1\" class=\"dataframe\">\n",
       "  <thead>\n",
       "    <tr style=\"text-align: right;\">\n",
       "      <th></th>\n",
       "      <th>gene</th>\n",
       "      <th>R553_a_counts</th>\n",
       "    </tr>\n",
       "  </thead>\n",
       "  <tbody>\n",
       "    <tr>\n",
       "      <th>0</th>\n",
       "      <td>YAL001C</td>\n",
       "      <td>431</td>\n",
       "    </tr>\n",
       "    <tr>\n",
       "      <th>1</th>\n",
       "      <td>YAL002W</td>\n",
       "      <td>287</td>\n",
       "    </tr>\n",
       "    <tr>\n",
       "      <th>2</th>\n",
       "      <td>YAL003W</td>\n",
       "      <td>30501</td>\n",
       "    </tr>\n",
       "    <tr>\n",
       "      <th>3</th>\n",
       "      <td>YAL005C</td>\n",
       "      <td>114671</td>\n",
       "    </tr>\n",
       "    <tr>\n",
       "      <th>4</th>\n",
       "      <td>YAL007C</td>\n",
       "      <td>1644</td>\n",
       "    </tr>\n",
       "  </tbody>\n",
       "</table>\n",
       "</div>"
      ],
      "text/plain": [
       "      gene  R553_a_counts\n",
       "0  YAL001C            431\n",
       "1  YAL002W            287\n",
       "2  YAL003W          30501\n",
       "3  YAL005C         114671\n",
       "4  YAL007C           1644"
      ]
     },
     "execution_count": 49,
     "metadata": {},
     "output_type": "execute_result"
    }
   ],
   "source": [
    "R553_a_counts = importdf(filedict['a'][1],'R553_a_counts')\n",
    "R553_a_counts.head()"
   ]
  },
  {
   "cell_type": "code",
   "execution_count": 50,
   "metadata": {},
   "outputs": [
    {
     "data": {
      "text/html": [
       "<div>\n",
       "<style scoped>\n",
       "    .dataframe tbody tr th:only-of-type {\n",
       "        vertical-align: middle;\n",
       "    }\n",
       "\n",
       "    .dataframe tbody tr th {\n",
       "        vertical-align: top;\n",
       "    }\n",
       "\n",
       "    .dataframe thead th {\n",
       "        text-align: right;\n",
       "    }\n",
       "</style>\n",
       "<table border=\"1\" class=\"dataframe\">\n",
       "  <thead>\n",
       "    <tr style=\"text-align: right;\">\n",
       "      <th></th>\n",
       "      <th>gene</th>\n",
       "      <th>R555_a_counts</th>\n",
       "    </tr>\n",
       "  </thead>\n",
       "  <tbody>\n",
       "    <tr>\n",
       "      <th>0</th>\n",
       "      <td>YAL001C</td>\n",
       "      <td>242</td>\n",
       "    </tr>\n",
       "    <tr>\n",
       "      <th>1</th>\n",
       "      <td>YAL002W</td>\n",
       "      <td>189</td>\n",
       "    </tr>\n",
       "    <tr>\n",
       "      <th>2</th>\n",
       "      <td>YAL003W</td>\n",
       "      <td>27272</td>\n",
       "    </tr>\n",
       "    <tr>\n",
       "      <th>3</th>\n",
       "      <td>YAL005C</td>\n",
       "      <td>83783</td>\n",
       "    </tr>\n",
       "    <tr>\n",
       "      <th>4</th>\n",
       "      <td>YAL007C</td>\n",
       "      <td>1153</td>\n",
       "    </tr>\n",
       "  </tbody>\n",
       "</table>\n",
       "</div>"
      ],
      "text/plain": [
       "      gene  R555_a_counts\n",
       "0  YAL001C            242\n",
       "1  YAL002W            189\n",
       "2  YAL003W          27272\n",
       "3  YAL005C          83783\n",
       "4  YAL007C           1153"
      ]
     },
     "execution_count": 50,
     "metadata": {},
     "output_type": "execute_result"
    }
   ],
   "source": [
    "R555_a_counts = importdf(filedict['a'][2],'R555_a_counts')\n",
    "R555_a_counts.head()"
   ]
  },
  {
   "cell_type": "code",
   "execution_count": 51,
   "metadata": {},
   "outputs": [
    {
     "data": {
      "text/html": [
       "<div>\n",
       "<style scoped>\n",
       "    .dataframe tbody tr th:only-of-type {\n",
       "        vertical-align: middle;\n",
       "    }\n",
       "\n",
       "    .dataframe tbody tr th {\n",
       "        vertical-align: top;\n",
       "    }\n",
       "\n",
       "    .dataframe thead th {\n",
       "        text-align: right;\n",
       "    }\n",
       "</style>\n",
       "<table border=\"1\" class=\"dataframe\">\n",
       "  <thead>\n",
       "    <tr style=\"text-align: right;\">\n",
       "      <th></th>\n",
       "      <th>gene</th>\n",
       "      <th>R553_a_counts</th>\n",
       "      <th>R555_a_counts</th>\n",
       "    </tr>\n",
       "  </thead>\n",
       "  <tbody>\n",
       "    <tr>\n",
       "      <th>0</th>\n",
       "      <td>YAL001C</td>\n",
       "      <td>431</td>\n",
       "      <td>242</td>\n",
       "    </tr>\n",
       "    <tr>\n",
       "      <th>1</th>\n",
       "      <td>YAL002W</td>\n",
       "      <td>287</td>\n",
       "      <td>189</td>\n",
       "    </tr>\n",
       "    <tr>\n",
       "      <th>2</th>\n",
       "      <td>YAL003W</td>\n",
       "      <td>30501</td>\n",
       "      <td>27272</td>\n",
       "    </tr>\n",
       "    <tr>\n",
       "      <th>3</th>\n",
       "      <td>YAL005C</td>\n",
       "      <td>114671</td>\n",
       "      <td>83783</td>\n",
       "    </tr>\n",
       "    <tr>\n",
       "      <th>4</th>\n",
       "      <td>YAL007C</td>\n",
       "      <td>1644</td>\n",
       "      <td>1153</td>\n",
       "    </tr>\n",
       "  </tbody>\n",
       "</table>\n",
       "</div>"
      ],
      "text/plain": [
       "      gene  R553_a_counts  R555_a_counts\n",
       "0  YAL001C            431            242\n",
       "1  YAL002W            287            189\n",
       "2  YAL003W          30501          27272\n",
       "3  YAL005C         114671          83783\n",
       "4  YAL007C           1644           1153"
      ]
     },
     "execution_count": 51,
     "metadata": {},
     "output_type": "execute_result"
    }
   ],
   "source": [
    "a_counts = pd.merge(R553_a_counts,R555_a_counts,on = 'gene')\n",
    "a_counts.head()"
   ]
  },
  {
   "cell_type": "code",
   "execution_count": 52,
   "metadata": {},
   "outputs": [
    {
     "data": {
      "text/html": [
       "<div>\n",
       "<style scoped>\n",
       "    .dataframe tbody tr th:only-of-type {\n",
       "        vertical-align: middle;\n",
       "    }\n",
       "\n",
       "    .dataframe tbody tr th {\n",
       "        vertical-align: top;\n",
       "    }\n",
       "\n",
       "    .dataframe thead th {\n",
       "        text-align: right;\n",
       "    }\n",
       "</style>\n",
       "<table border=\"1\" class=\"dataframe\">\n",
       "  <thead>\n",
       "    <tr style=\"text-align: right;\">\n",
       "      <th></th>\n",
       "      <th>transc</th>\n",
       "      <th>R (pearson correlation)</th>\n",
       "      <th>R squared</th>\n",
       "    </tr>\n",
       "  </thead>\n",
       "  <tbody>\n",
       "    <tr>\n",
       "      <th>0</th>\n",
       "      <td>Q0045</td>\n",
       "      <td>-0.032475</td>\n",
       "      <td>0.001055</td>\n",
       "    </tr>\n",
       "    <tr>\n",
       "      <th>1</th>\n",
       "      <td>Q0050</td>\n",
       "      <td>0.992248</td>\n",
       "      <td>0.984557</td>\n",
       "    </tr>\n",
       "    <tr>\n",
       "      <th>2</th>\n",
       "      <td>Q0055</td>\n",
       "      <td>NaN</td>\n",
       "      <td>NaN</td>\n",
       "    </tr>\n",
       "    <tr>\n",
       "      <th>3</th>\n",
       "      <td>Q0060</td>\n",
       "      <td>NaN</td>\n",
       "      <td>NaN</td>\n",
       "    </tr>\n",
       "    <tr>\n",
       "      <th>4</th>\n",
       "      <td>Q0065</td>\n",
       "      <td>-0.025201</td>\n",
       "      <td>0.000635</td>\n",
       "    </tr>\n",
       "  </tbody>\n",
       "</table>\n",
       "</div>"
      ],
      "text/plain": [
       "  transc  R (pearson correlation)  R squared\n",
       "0  Q0045                -0.032475   0.001055\n",
       "1  Q0050                 0.992248   0.984557\n",
       "2  Q0055                      NaN        NaN\n",
       "3  Q0060                      NaN        NaN\n",
       "4  Q0065                -0.025201   0.000635"
      ]
     },
     "execution_count": 52,
     "metadata": {},
     "output_type": "execute_result"
    }
   ],
   "source": [
    "a_corr = pd.read_csv(filedict['a'][0])\n",
    "a_corr.head()"
   ]
  },
  {
   "cell_type": "code",
   "execution_count": 53,
   "metadata": {},
   "outputs": [
    {
     "name": "stdout",
     "output_type": "stream",
     "text": [
      "length a_corr == length of a_counts? True\n"
     ]
    }
   ],
   "source": [
    "print('length a_corr == length of a_counts? {}'.format(len(a_corr)==len(a_counts)))"
   ]
  },
  {
   "cell_type": "code",
   "execution_count": 55,
   "metadata": {},
   "outputs": [
    {
     "data": {
      "text/html": [
       "<div>\n",
       "<style scoped>\n",
       "    .dataframe tbody tr th:only-of-type {\n",
       "        vertical-align: middle;\n",
       "    }\n",
       "\n",
       "    .dataframe tbody tr th {\n",
       "        vertical-align: top;\n",
       "    }\n",
       "\n",
       "    .dataframe thead th {\n",
       "        text-align: right;\n",
       "    }\n",
       "</style>\n",
       "<table border=\"1\" class=\"dataframe\">\n",
       "  <thead>\n",
       "    <tr style=\"text-align: right;\">\n",
       "      <th></th>\n",
       "      <th>transc</th>\n",
       "      <th>R (pearson correlation)</th>\n",
       "      <th>R squared</th>\n",
       "      <th>gene</th>\n",
       "      <th>R553_a_counts</th>\n",
       "      <th>R555_a_counts</th>\n",
       "    </tr>\n",
       "  </thead>\n",
       "  <tbody>\n",
       "    <tr>\n",
       "      <th>0</th>\n",
       "      <td>Q0045</td>\n",
       "      <td>-0.032475</td>\n",
       "      <td>0.001055</td>\n",
       "      <td>Q0045</td>\n",
       "      <td>3</td>\n",
       "      <td>1</td>\n",
       "    </tr>\n",
       "    <tr>\n",
       "      <th>1</th>\n",
       "      <td>Q0050</td>\n",
       "      <td>0.992248</td>\n",
       "      <td>0.984557</td>\n",
       "      <td>Q0050</td>\n",
       "      <td>3</td>\n",
       "      <td>3</td>\n",
       "    </tr>\n",
       "    <tr>\n",
       "      <th>2</th>\n",
       "      <td>Q0055</td>\n",
       "      <td>NaN</td>\n",
       "      <td>NaN</td>\n",
       "      <td>Q0055</td>\n",
       "      <td>0</td>\n",
       "      <td>2</td>\n",
       "    </tr>\n",
       "    <tr>\n",
       "      <th>3</th>\n",
       "      <td>Q0060</td>\n",
       "      <td>NaN</td>\n",
       "      <td>NaN</td>\n",
       "      <td>Q0060</td>\n",
       "      <td>0</td>\n",
       "      <td>0</td>\n",
       "    </tr>\n",
       "    <tr>\n",
       "      <th>4</th>\n",
       "      <td>Q0065</td>\n",
       "      <td>-0.025201</td>\n",
       "      <td>0.000635</td>\n",
       "      <td>Q0065</td>\n",
       "      <td>2</td>\n",
       "      <td>1</td>\n",
       "    </tr>\n",
       "  </tbody>\n",
       "</table>\n",
       "</div>"
      ],
      "text/plain": [
       "  transc  R (pearson correlation)  R squared   gene  R553_a_counts  \\\n",
       "0  Q0045                -0.032475   0.001055  Q0045              3   \n",
       "1  Q0050                 0.992248   0.984557  Q0050              3   \n",
       "2  Q0055                      NaN        NaN  Q0055              0   \n",
       "3  Q0060                      NaN        NaN  Q0060              0   \n",
       "4  Q0065                -0.025201   0.000635  Q0065              2   \n",
       "\n",
       "   R555_a_counts  \n",
       "0              1  \n",
       "1              3  \n",
       "2              2  \n",
       "3              0  \n",
       "4              1  "
      ]
     },
     "execution_count": 55,
     "metadata": {},
     "output_type": "execute_result"
    }
   ],
   "source": [
    "a_table = pd.merge(a_corr,a_counts,left_on='transc',right_on='gene')\n",
    "a_table.head()"
   ]
  },
  {
   "cell_type": "markdown",
   "metadata": {},
   "source": [
    "## so NaNs are from low read counts probably. as expected"
   ]
  },
  {
   "cell_type": "code",
   "execution_count": 71,
   "metadata": {},
   "outputs": [
    {
     "data": {
      "text/html": [
       "<div>\n",
       "<style scoped>\n",
       "    .dataframe tbody tr th:only-of-type {\n",
       "        vertical-align: middle;\n",
       "    }\n",
       "\n",
       "    .dataframe tbody tr th {\n",
       "        vertical-align: top;\n",
       "    }\n",
       "\n",
       "    .dataframe thead th {\n",
       "        text-align: right;\n",
       "    }\n",
       "</style>\n",
       "<table border=\"1\" class=\"dataframe\">\n",
       "  <thead>\n",
       "    <tr style=\"text-align: right;\">\n",
       "      <th></th>\n",
       "      <th>R (pearson correlation)</th>\n",
       "      <th>R squared</th>\n",
       "      <th>R553_a_counts</th>\n",
       "      <th>R555_a_counts</th>\n",
       "    </tr>\n",
       "  </thead>\n",
       "  <tbody>\n",
       "    <tr>\n",
       "      <th>count</th>\n",
       "      <td>0.0</td>\n",
       "      <td>0.0</td>\n",
       "      <td>185.000000</td>\n",
       "      <td>185.000000</td>\n",
       "    </tr>\n",
       "    <tr>\n",
       "      <th>mean</th>\n",
       "      <td>NaN</td>\n",
       "      <td>NaN</td>\n",
       "      <td>0.459459</td>\n",
       "      <td>0.275676</td>\n",
       "    </tr>\n",
       "    <tr>\n",
       "      <th>std</th>\n",
       "      <td>NaN</td>\n",
       "      <td>NaN</td>\n",
       "      <td>0.926500</td>\n",
       "      <td>0.747970</td>\n",
       "    </tr>\n",
       "    <tr>\n",
       "      <th>min</th>\n",
       "      <td>NaN</td>\n",
       "      <td>NaN</td>\n",
       "      <td>0.000000</td>\n",
       "      <td>0.000000</td>\n",
       "    </tr>\n",
       "    <tr>\n",
       "      <th>25%</th>\n",
       "      <td>NaN</td>\n",
       "      <td>NaN</td>\n",
       "      <td>0.000000</td>\n",
       "      <td>0.000000</td>\n",
       "    </tr>\n",
       "    <tr>\n",
       "      <th>50%</th>\n",
       "      <td>NaN</td>\n",
       "      <td>NaN</td>\n",
       "      <td>0.000000</td>\n",
       "      <td>0.000000</td>\n",
       "    </tr>\n",
       "    <tr>\n",
       "      <th>75%</th>\n",
       "      <td>NaN</td>\n",
       "      <td>NaN</td>\n",
       "      <td>1.000000</td>\n",
       "      <td>0.000000</td>\n",
       "    </tr>\n",
       "    <tr>\n",
       "      <th>max</th>\n",
       "      <td>NaN</td>\n",
       "      <td>NaN</td>\n",
       "      <td>5.000000</td>\n",
       "      <td>4.000000</td>\n",
       "    </tr>\n",
       "  </tbody>\n",
       "</table>\n",
       "</div>"
      ],
      "text/plain": [
       "       R (pearson correlation)  R squared  R553_a_counts  R555_a_counts\n",
       "count                      0.0        0.0     185.000000     185.000000\n",
       "mean                       NaN        NaN       0.459459       0.275676\n",
       "std                        NaN        NaN       0.926500       0.747970\n",
       "min                        NaN        NaN       0.000000       0.000000\n",
       "25%                        NaN        NaN       0.000000       0.000000\n",
       "50%                        NaN        NaN       0.000000       0.000000\n",
       "75%                        NaN        NaN       1.000000       0.000000\n",
       "max                        NaN        NaN       5.000000       4.000000"
      ]
     },
     "execution_count": 71,
     "metadata": {},
     "output_type": "execute_result"
    }
   ],
   "source": [
    "a_table[a_table.isnull().any(axis=1)].describe()"
   ]
  },
  {
   "cell_type": "markdown",
   "metadata": {},
   "source": [
    "## filter out transcripts with low read counts"
   ]
  },
  {
   "cell_type": "markdown",
   "metadata": {},
   "source": [
    "have to choose a cutoff\n",
    "\n",
    "what percentage of the transcripts do you remove with different cutoffs?"
   ]
  },
  {
   "cell_type": "code",
   "execution_count": 86,
   "metadata": {},
   "outputs": [
    {
     "name": "stdout",
     "output_type": "stream",
     "text": [
      "cutoff | percent of transcripts with counts below cutoff\n",
      "1 | 3.1754205286646067\n",
      "50 | 14.967387572948851\n",
      "100 | 23.892893923789906\n",
      "150 | 32.646755921730175\n",
      "200 | 40.59388946103673\n",
      "250 | 47.08204600068658\n",
      "300 | 51.93958118777893\n",
      "350 | 56.50532097493992\n",
      "400 | 60.350154479917606\n",
      "450 | 63.90319258496395\n",
      "500 | 67.0614486783385\n",
      "550 | 69.39581187778921\n",
      "600 | 71.3697219361483\n",
      "650 | 73.12049433573635\n",
      "700 | 74.51081359423274\n",
      "750 | 75.6951596292482\n",
      "800 | 76.77651905252317\n",
      "850 | 77.8063851699279\n",
      "900 | 79.09371781668384\n",
      "950 | 79.90044627531753\n"
     ]
    }
   ],
   "source": [
    "cutoffs = np.arange(0,1000,50)\n",
    "cutoffs[0] = 1\n",
    "print('cutoff | percent of transcripts with counts below cutoff')\n",
    "for cutoff in cutoffs:\n",
    "    n_rem = len(a_table[((a_table['R553_a_counts']<cutoff) | (a_table['R555_a_counts']<cutoff))])\n",
    "    tot = len(a_table)\n",
    "    print('{} | {}'.format(cutoff,(n_rem/tot)*100))"
   ]
  },
  {
   "cell_type": "code",
   "execution_count": 93,
   "metadata": {},
   "outputs": [
    {
     "data": {
      "text/plain": [
       "Text(0,0.5,'percent of transcripts below cutoff')"
      ]
     },
     "execution_count": 93,
     "metadata": {},
     "output_type": "execute_result"
    },
    {
     "data": {
      "image/png": "[encoded data removed]",
      "text/plain": [
       "<matplotlib.figure.Figure at 0x11e102a90>"
      ]
     },
     "metadata": {},
     "output_type": "display_data"
    }
   ],
   "source": [
    "cutoffs = np.arange(0,1000,1)\n",
    "cutoffs[0] = 1\n",
    "perc = []\n",
    "for cutoff in cutoffs:\n",
    "    n_rem = len(a_table[((a_table['R553_a_counts']<cutoff) | (a_table['R555_a_counts']<cutoff))])\n",
    "    tot = len(a_table)\n",
    "    perc.append((n_rem/tot)*100)\n",
    "plt.plot(cutoffs,perc,'.')\n",
    "plt.xlabel('cutoff alignment count')\n",
    "plt.ylabel('percent of transcripts below cutoff')"
   ]
  },
  {
   "cell_type": "markdown",
   "metadata": {},
   "source": [
    "### let's just try of cutoff of 200 alignments"
   ]
  },
  {
   "cell_type": "code",
   "execution_count": 109,
   "metadata": {},
   "outputs": [],
   "source": [
    "cutoff = 200\n",
    "a_t2 = a_table[((a_table['R553_a_counts']>cutoff) & (a_table['R555_a_counts']>cutoff))].copy()"
   ]
  },
  {
   "cell_type": "code",
   "execution_count": 100,
   "metadata": {},
   "outputs": [
    {
     "data": {
      "text/html": [
       "<div>\n",
       "<style scoped>\n",
       "    .dataframe tbody tr th:only-of-type {\n",
       "        vertical-align: middle;\n",
       "    }\n",
       "\n",
       "    .dataframe tbody tr th {\n",
       "        vertical-align: top;\n",
       "    }\n",
       "\n",
       "    .dataframe thead th {\n",
       "        text-align: right;\n",
       "    }\n",
       "</style>\n",
       "<table border=\"1\" class=\"dataframe\">\n",
       "  <thead>\n",
       "    <tr style=\"text-align: right;\">\n",
       "      <th></th>\n",
       "      <th>transc</th>\n",
       "      <th>R (pearson correlation)</th>\n",
       "      <th>R squared</th>\n",
       "      <th>gene</th>\n",
       "      <th>R553_a_counts</th>\n",
       "      <th>R555_a_counts</th>\n",
       "    </tr>\n",
       "  </thead>\n",
       "  <tbody>\n",
       "    <tr>\n",
       "      <th>20</th>\n",
       "      <td>R0020C</td>\n",
       "      <td>0.853599</td>\n",
       "      <td>0.728630</td>\n",
       "      <td>R0020C</td>\n",
       "      <td>1261</td>\n",
       "      <td>815</td>\n",
       "    </tr>\n",
       "    <tr>\n",
       "      <th>21</th>\n",
       "      <td>R0030W</td>\n",
       "      <td>0.645333</td>\n",
       "      <td>0.416455</td>\n",
       "      <td>R0030W</td>\n",
       "      <td>335</td>\n",
       "      <td>222</td>\n",
       "    </tr>\n",
       "    <tr>\n",
       "      <th>22</th>\n",
       "      <td>R0040C</td>\n",
       "      <td>0.940067</td>\n",
       "      <td>0.883726</td>\n",
       "      <td>R0040C</td>\n",
       "      <td>1128</td>\n",
       "      <td>812</td>\n",
       "    </tr>\n",
       "    <tr>\n",
       "      <th>23</th>\n",
       "      <td>YAL001C</td>\n",
       "      <td>0.340338</td>\n",
       "      <td>0.115830</td>\n",
       "      <td>YAL001C</td>\n",
       "      <td>431</td>\n",
       "      <td>242</td>\n",
       "    </tr>\n",
       "    <tr>\n",
       "      <th>25</th>\n",
       "      <td>YAL003W</td>\n",
       "      <td>0.830077</td>\n",
       "      <td>0.689029</td>\n",
       "      <td>YAL003W</td>\n",
       "      <td>30501</td>\n",
       "      <td>27272</td>\n",
       "    </tr>\n",
       "  </tbody>\n",
       "</table>\n",
       "</div>"
      ],
      "text/plain": [
       "     transc  R (pearson correlation)  R squared     gene  R553_a_counts  \\\n",
       "20   R0020C                 0.853599   0.728630   R0020C           1261   \n",
       "21   R0030W                 0.645333   0.416455   R0030W            335   \n",
       "22   R0040C                 0.940067   0.883726   R0040C           1128   \n",
       "23  YAL001C                 0.340338   0.115830  YAL001C            431   \n",
       "25  YAL003W                 0.830077   0.689029  YAL003W          30501   \n",
       "\n",
       "    R555_a_counts  \n",
       "20            815  \n",
       "21            222  \n",
       "22            812  \n",
       "23            242  \n",
       "25          27272  "
      ]
     },
     "execution_count": 100,
     "metadata": {},
     "output_type": "execute_result"
    }
   ],
   "source": [
    "a_t2.head()"
   ]
  },
  {
   "cell_type": "code",
   "execution_count": 110,
   "metadata": {},
   "outputs": [
    {
     "data": {
      "text/plain": [
       "<matplotlib.axes._subplots.AxesSubplot at 0x1205afd30>"
      ]
     },
     "execution_count": 110,
     "metadata": {},
     "output_type": "execute_result"
    },
    {
     "data": {
      "image/png": "[encoded data removed]",
      "text/plain": [
       "<matplotlib.figure.Figure at 0x120700860>"
      ]
     },
     "metadata": {},
     "output_type": "display_data"
    }
   ],
   "source": [
    "a_t2['R squared'].hist(bins = 20)"
   ]
  },
  {
   "cell_type": "code",
   "execution_count": 105,
   "metadata": {},
   "outputs": [
    {
     "data": {
      "text/plain": [
       "<matplotlib.axes._subplots.AxesSubplot at 0x11f643908>"
      ]
     },
     "execution_count": 105,
     "metadata": {},
     "output_type": "execute_result"
    },
    {
     "data": {
      "image/png": "[encoded data removed]",
      "text/plain": [
       "<matplotlib.figure.Figure at 0x120132518>"
      ]
     },
     "metadata": {},
     "output_type": "display_data"
    }
   ],
   "source": [
    "a_t2['count diff'] = a_t2['R553_a_counts'] - a_t2['R555_a_counts']\n",
    "a_t2['count diff'].hist(bins = np.arange(-5000,5000,100))\n",
    "# plt.xlim([-1000,1000])"
   ]
  },
  {
   "cell_type": "code",
   "execution_count": null,
   "metadata": {},
   "outputs": [],
   "source": []
  }
 ],
 "metadata": {
  "kernelspec": {
   "display_name": "Python 3",
   "language": "python",
   "name": "python3"
  },
  "language_info": {
   "codemirror_mode": {
    "name": "ipython",
    "version": 3
   },
   "file_extension": ".py",
   "mimetype": "text/x-python",
   "name": "python",
   "nbconvert_exporter": "python",
   "pygments_lexer": "ipython3",
   "version": "3.6.4"
  }
 },
 "nbformat": 4,
 "nbformat_minor": 2
}
