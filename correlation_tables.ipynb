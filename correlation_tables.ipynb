{
 "cells": [
  {
   "cell_type": "markdown",
   "metadata": {},
   "source": [
    "# exploring the whole transcriptome coverage depth data"
   ]
  },
  {
   "cell_type": "markdown",
   "metadata": {},
   "source": [
    "**find the files created with extract_coverages.ipynb**"
   ]
  },
  {
   "cell_type": "code",
   "execution_count": 1,
   "metadata": {},
   "outputs": [
    {
     "name": "stdout",
     "output_type": "stream",
     "text": [
      "./SRR948553_BBduk2_NEBtrim-rRNA-bbmap_trim_29-alignment--norc-a-v2-p4/SRR948553_BBduk2_NEBtrim-rRNA-bbmap_trim_29--norc-a-v2-p4-cov_dep.tsv.gz\r\n",
      "./SRR948553_BBduk2_NEBtrim-rRNA-bbmap_trim_29-alignment--norc-k1-v2-p4/SRR948553_BBduk2_NEBtrim-rRNA-bbmap_trim_29--norc-k1-v2-p4-cov_dep.tsv.gz\r\n",
      "./SRR948553_BBduk2_NEBtrim-rRNA-bbmap_trim_29-alignment--norc-v2-p4-m1/SRR948553_BBduk2_NEBtrim-rRNA-bbmap_trim_29--norc-v2-p4-m1-cov_dep.tsv.gz\r\n",
      "./SRR948555_BBduk2_NEBtrim-rRNA-bbmap_trim_29-alignment--norc-a-v2-p4/SRR948555_BBduk2_NEBtrim-rRNA-bbmap_trim_29--norc-a-v2-p4-cov_dep.tsv.gz\r\n",
      "./SRR948555_BBduk2_NEBtrim-rRNA-bbmap_trim_29-alignment--norc-k1-v2-p4/SRR948555_BBduk2_NEBtrim-rRNA-bbmap_trim_29--norc-k1-v2-p4-cov_dep.tsv.gz\r\n",
      "./SRR948555_BBduk2_NEBtrim-rRNA-bbmap_trim_29-alignment--norc-v2-p4-m1/SRR948555_BBduk2_NEBtrim-rRNA-bbmap_trim_29--norc-v2-p4-m1-cov_dep.tsv.gz\r\n"
     ]
    }
   ],
   "source": [
    "!find . -name \"*-cov_dep.tsv.gz\""
   ]
  },
  {
   "cell_type": "markdown",
   "metadata": {},
   "source": [
    "**let's check out the -a-v2 alignments**"
   ]
  },
  {
   "cell_type": "code",
   "execution_count": 2,
   "metadata": {},
   "outputs": [],
   "source": [
    "paths_a = [\n",
    "    './SRR948553_BBduk2_NEBtrim-rRNA-bbmap_trim_29-alignment--norc-a-v2-p4/SRR948553_BBduk2_NEBtrim-rRNA-bbmap_trim_29--norc-a-v2-p4-cov_dep.tsv.gz',\n",
    "    './SRR948555_BBduk2_NEBtrim-rRNA-bbmap_trim_29-alignment--norc-a-v2-p4/SRR948555_BBduk2_NEBtrim-rRNA-bbmap_trim_29--norc-a-v2-p4-cov_dep.tsv.gz'\n",
    "]"
   ]
  },
  {
   "cell_type": "code",
   "execution_count": 3,
   "metadata": {},
   "outputs": [],
   "source": [
    "import pandas as pd"
   ]
  },
  {
   "cell_type": "markdown",
   "metadata": {},
   "source": [
    "**test with the first 5000 rows for speed**\n",
    "- enough rows to have more than 1 transcript.  So position column will start from 1\n",
    "    - want to see if that's a problem when merging or not"
   ]
  },
  {
   "cell_type": "code",
   "execution_count": 82,
   "metadata": {},
   "outputs": [
    {
     "data": {
      "text/html": [
       "<div>\n",
       "<style scoped>\n",
       "    .dataframe tbody tr th:only-of-type {\n",
       "        vertical-align: middle;\n",
       "    }\n",
       "\n",
       "    .dataframe tbody tr th {\n",
       "        vertical-align: top;\n",
       "    }\n",
       "\n",
       "    .dataframe thead th {\n",
       "        text-align: right;\n",
       "    }\n",
       "</style>\n",
       "<table border=\"1\" class=\"dataframe\">\n",
       "  <thead>\n",
       "    <tr style=\"text-align: right;\">\n",
       "      <th></th>\n",
       "      <th>transc</th>\n",
       "      <th>position</th>\n",
       "      <th>cov_depth</th>\n",
       "    </tr>\n",
       "  </thead>\n",
       "  <tbody>\n",
       "    <tr>\n",
       "      <th>4995</th>\n",
       "      <td>YAL002W</td>\n",
       "      <td>1513</td>\n",
       "      <td>4</td>\n",
       "    </tr>\n",
       "    <tr>\n",
       "      <th>4996</th>\n",
       "      <td>YAL002W</td>\n",
       "      <td>1514</td>\n",
       "      <td>4</td>\n",
       "    </tr>\n",
       "    <tr>\n",
       "      <th>4997</th>\n",
       "      <td>YAL002W</td>\n",
       "      <td>1515</td>\n",
       "      <td>4</td>\n",
       "    </tr>\n",
       "    <tr>\n",
       "      <th>4998</th>\n",
       "      <td>YAL002W</td>\n",
       "      <td>1516</td>\n",
       "      <td>5</td>\n",
       "    </tr>\n",
       "    <tr>\n",
       "      <th>4999</th>\n",
       "      <td>YAL002W</td>\n",
       "      <td>1517</td>\n",
       "      <td>5</td>\n",
       "    </tr>\n",
       "  </tbody>\n",
       "</table>\n",
       "</div>"
      ],
      "text/plain": [
       "       transc  position  cov_depth\n",
       "4995  YAL002W      1513          4\n",
       "4996  YAL002W      1514          4\n",
       "4997  YAL002W      1515          4\n",
       "4998  YAL002W      1516          5\n",
       "4999  YAL002W      1517          5"
      ]
     },
     "execution_count": 82,
     "metadata": {},
     "output_type": "execute_result"
    }
   ],
   "source": [
    "test1=pd.read_table(paths_a[0],header = None, names = ['transc','position','cov_depth']).head(5000)\n",
    "test1.tail()"
   ]
  },
  {
   "cell_type": "code",
   "execution_count": 19,
   "metadata": {},
   "outputs": [
    {
     "data": {
      "text/html": [
       "<div>\n",
       "<style scoped>\n",
       "    .dataframe tbody tr th:only-of-type {\n",
       "        vertical-align: middle;\n",
       "    }\n",
       "\n",
       "    .dataframe tbody tr th {\n",
       "        vertical-align: top;\n",
       "    }\n",
       "\n",
       "    .dataframe thead th {\n",
       "        text-align: right;\n",
       "    }\n",
       "</style>\n",
       "<table border=\"1\" class=\"dataframe\">\n",
       "  <thead>\n",
       "    <tr style=\"text-align: right;\">\n",
       "      <th></th>\n",
       "      <th>transc</th>\n",
       "      <th>position</th>\n",
       "      <th>cov_depth</th>\n",
       "    </tr>\n",
       "  </thead>\n",
       "  <tbody>\n",
       "    <tr>\n",
       "      <th>0</th>\n",
       "      <td>YAL001C</td>\n",
       "      <td>1</td>\n",
       "      <td>0</td>\n",
       "    </tr>\n",
       "    <tr>\n",
       "      <th>1</th>\n",
       "      <td>YAL001C</td>\n",
       "      <td>2</td>\n",
       "      <td>0</td>\n",
       "    </tr>\n",
       "    <tr>\n",
       "      <th>2</th>\n",
       "      <td>YAL001C</td>\n",
       "      <td>3</td>\n",
       "      <td>0</td>\n",
       "    </tr>\n",
       "    <tr>\n",
       "      <th>3</th>\n",
       "      <td>YAL001C</td>\n",
       "      <td>4</td>\n",
       "      <td>0</td>\n",
       "    </tr>\n",
       "    <tr>\n",
       "      <th>4</th>\n",
       "      <td>YAL001C</td>\n",
       "      <td>5</td>\n",
       "      <td>0</td>\n",
       "    </tr>\n",
       "    <tr>\n",
       "      <th>5</th>\n",
       "      <td>YAL001C</td>\n",
       "      <td>6</td>\n",
       "      <td>1</td>\n",
       "    </tr>\n",
       "    <tr>\n",
       "      <th>6</th>\n",
       "      <td>YAL001C</td>\n",
       "      <td>7</td>\n",
       "      <td>2</td>\n",
       "    </tr>\n",
       "  </tbody>\n",
       "</table>\n",
       "</div>"
      ],
      "text/plain": [
       "    transc  position  cov_depth\n",
       "0  YAL001C         1          0\n",
       "1  YAL001C         2          0\n",
       "2  YAL001C         3          0\n",
       "3  YAL001C         4          0\n",
       "4  YAL001C         5          0\n",
       "5  YAL001C         6          1\n",
       "6  YAL001C         7          2"
      ]
     },
     "execution_count": 19,
     "metadata": {},
     "output_type": "execute_result"
    }
   ],
   "source": [
    "test1.head(7)"
   ]
  },
  {
   "cell_type": "code",
   "execution_count": 83,
   "metadata": {},
   "outputs": [
    {
     "name": "stdout",
     "output_type": "stream",
     "text": [
      "       transc  position  cov_depth\n",
      "4995  YAL002W      1513          2\n",
      "4996  YAL002W      1514          1\n",
      "4997  YAL002W      1515          2\n",
      "4998  YAL002W      1516          2\n",
      "4999  YAL002W      1517          2 \n",
      "     transc  position  cov_depth\n",
      "0  YAL001C         1          1\n",
      "1  YAL001C         2          3\n",
      "2  YAL001C         3          6\n",
      "3  YAL001C         4          6\n",
      "4  YAL001C         5          6\n"
     ]
    }
   ],
   "source": [
    "test2=pd.read_table(paths_a[1],header = None, names = ['transc','position','cov_depth']).head(5000)\n",
    "print(test2.tail(),'\\n',test2.head())"
   ]
  },
  {
   "cell_type": "code",
   "execution_count": 88,
   "metadata": {},
   "outputs": [
    {
     "data": {
      "text/html": [
       "<div>\n",
       "<style scoped>\n",
       "    .dataframe tbody tr th:only-of-type {\n",
       "        vertical-align: middle;\n",
       "    }\n",
       "\n",
       "    .dataframe tbody tr th {\n",
       "        vertical-align: top;\n",
       "    }\n",
       "\n",
       "    .dataframe thead th {\n",
       "        text-align: right;\n",
       "    }\n",
       "</style>\n",
       "<table border=\"1\" class=\"dataframe\">\n",
       "  <thead>\n",
       "    <tr style=\"text-align: right;\">\n",
       "      <th></th>\n",
       "      <th>transc</th>\n",
       "      <th>position</th>\n",
       "      <th>cov_depth</th>\n",
       "    </tr>\n",
       "  </thead>\n",
       "  <tbody>\n",
       "    <tr>\n",
       "      <th>0</th>\n",
       "      <td>YAL001C</td>\n",
       "      <td>1</td>\n",
       "      <td>0</td>\n",
       "    </tr>\n",
       "    <tr>\n",
       "      <th>3483</th>\n",
       "      <td>YAL002W</td>\n",
       "      <td>1</td>\n",
       "      <td>0</td>\n",
       "    </tr>\n",
       "  </tbody>\n",
       "</table>\n",
       "</div>"
      ],
      "text/plain": [
       "       transc  position  cov_depth\n",
       "0     YAL001C         1          0\n",
       "3483  YAL002W         1          0"
      ]
     },
     "execution_count": 88,
     "metadata": {},
     "output_type": "execute_result"
    }
   ],
   "source": [
    "test1[test1['position']==1]"
   ]
  },
  {
   "cell_type": "markdown",
   "metadata": {},
   "source": [
    "#### try merging"
   ]
  },
  {
   "cell_type": "code",
   "execution_count": 14,
   "metadata": {
    "collapsed": true
   },
   "outputs": [
    {
     "data": {
      "text/html": [
       "<div>\n",
       "<style scoped>\n",
       "    .dataframe tbody tr th:only-of-type {\n",
       "        vertical-align: middle;\n",
       "    }\n",
       "\n",
       "    .dataframe tbody tr th {\n",
       "        vertical-align: top;\n",
       "    }\n",
       "\n",
       "    .dataframe thead th {\n",
       "        text-align: right;\n",
       "    }\n",
       "</style>\n",
       "<table border=\"1\" class=\"dataframe\">\n",
       "  <thead>\n",
       "    <tr style=\"text-align: right;\">\n",
       "      <th></th>\n",
       "      <th>transc</th>\n",
       "      <th>position</th>\n",
       "      <th>cov_depth</th>\n",
       "      <th>transc</th>\n",
       "      <th>position</th>\n",
       "      <th>cov_depth</th>\n",
       "    </tr>\n",
       "  </thead>\n",
       "  <tbody>\n",
       "    <tr>\n",
       "      <th>0</th>\n",
       "      <td>YAL001C</td>\n",
       "      <td>1</td>\n",
       "      <td>0</td>\n",
       "      <td>YAL001C</td>\n",
       "      <td>1</td>\n",
       "      <td>1</td>\n",
       "    </tr>\n",
       "    <tr>\n",
       "      <th>1</th>\n",
       "      <td>YAL001C</td>\n",
       "      <td>2</td>\n",
       "      <td>0</td>\n",
       "      <td>YAL001C</td>\n",
       "      <td>2</td>\n",
       "      <td>3</td>\n",
       "    </tr>\n",
       "    <tr>\n",
       "      <th>2</th>\n",
       "      <td>YAL001C</td>\n",
       "      <td>3</td>\n",
       "      <td>0</td>\n",
       "      <td>YAL001C</td>\n",
       "      <td>3</td>\n",
       "      <td>6</td>\n",
       "    </tr>\n",
       "    <tr>\n",
       "      <th>3</th>\n",
       "      <td>YAL001C</td>\n",
       "      <td>4</td>\n",
       "      <td>0</td>\n",
       "      <td>YAL001C</td>\n",
       "      <td>4</td>\n",
       "      <td>6</td>\n",
       "    </tr>\n",
       "    <tr>\n",
       "      <th>4</th>\n",
       "      <td>YAL001C</td>\n",
       "      <td>5</td>\n",
       "      <td>0</td>\n",
       "      <td>YAL001C</td>\n",
       "      <td>5</td>\n",
       "      <td>6</td>\n",
       "    </tr>\n",
       "    <tr>\n",
       "      <th>5</th>\n",
       "      <td>YAL001C</td>\n",
       "      <td>6</td>\n",
       "      <td>1</td>\n",
       "      <td>YAL001C</td>\n",
       "      <td>6</td>\n",
       "      <td>6</td>\n",
       "    </tr>\n",
       "    <tr>\n",
       "      <th>6</th>\n",
       "      <td>YAL001C</td>\n",
       "      <td>7</td>\n",
       "      <td>2</td>\n",
       "      <td>YAL001C</td>\n",
       "      <td>7</td>\n",
       "      <td>7</td>\n",
       "    </tr>\n",
       "    <tr>\n",
       "      <th>7</th>\n",
       "      <td>YAL001C</td>\n",
       "      <td>8</td>\n",
       "      <td>2</td>\n",
       "      <td>YAL001C</td>\n",
       "      <td>8</td>\n",
       "      <td>7</td>\n",
       "    </tr>\n",
       "    <tr>\n",
       "      <th>8</th>\n",
       "      <td>YAL001C</td>\n",
       "      <td>9</td>\n",
       "      <td>2</td>\n",
       "      <td>YAL001C</td>\n",
       "      <td>9</td>\n",
       "      <td>7</td>\n",
       "    </tr>\n",
       "    <tr>\n",
       "      <th>9</th>\n",
       "      <td>YAL001C</td>\n",
       "      <td>10</td>\n",
       "      <td>2</td>\n",
       "      <td>YAL001C</td>\n",
       "      <td>10</td>\n",
       "      <td>7</td>\n",
       "    </tr>\n",
       "    <tr>\n",
       "      <th>10</th>\n",
       "      <td>YAL001C</td>\n",
       "      <td>11</td>\n",
       "      <td>2</td>\n",
       "      <td>YAL001C</td>\n",
       "      <td>11</td>\n",
       "      <td>7</td>\n",
       "    </tr>\n",
       "    <tr>\n",
       "      <th>11</th>\n",
       "      <td>YAL001C</td>\n",
       "      <td>12</td>\n",
       "      <td>2</td>\n",
       "      <td>YAL001C</td>\n",
       "      <td>12</td>\n",
       "      <td>7</td>\n",
       "    </tr>\n",
       "    <tr>\n",
       "      <th>12</th>\n",
       "      <td>YAL001C</td>\n",
       "      <td>13</td>\n",
       "      <td>2</td>\n",
       "      <td>YAL001C</td>\n",
       "      <td>13</td>\n",
       "      <td>7</td>\n",
       "    </tr>\n",
       "    <tr>\n",
       "      <th>13</th>\n",
       "      <td>YAL001C</td>\n",
       "      <td>14</td>\n",
       "      <td>2</td>\n",
       "      <td>YAL001C</td>\n",
       "      <td>14</td>\n",
       "      <td>7</td>\n",
       "    </tr>\n",
       "    <tr>\n",
       "      <th>14</th>\n",
       "      <td>YAL001C</td>\n",
       "      <td>15</td>\n",
       "      <td>2</td>\n",
       "      <td>YAL001C</td>\n",
       "      <td>15</td>\n",
       "      <td>7</td>\n",
       "    </tr>\n",
       "    <tr>\n",
       "      <th>15</th>\n",
       "      <td>YAL001C</td>\n",
       "      <td>16</td>\n",
       "      <td>2</td>\n",
       "      <td>YAL001C</td>\n",
       "      <td>16</td>\n",
       "      <td>7</td>\n",
       "    </tr>\n",
       "    <tr>\n",
       "      <th>16</th>\n",
       "      <td>YAL001C</td>\n",
       "      <td>17</td>\n",
       "      <td>2</td>\n",
       "      <td>YAL001C</td>\n",
       "      <td>17</td>\n",
       "      <td>7</td>\n",
       "    </tr>\n",
       "    <tr>\n",
       "      <th>17</th>\n",
       "      <td>YAL001C</td>\n",
       "      <td>18</td>\n",
       "      <td>2</td>\n",
       "      <td>YAL001C</td>\n",
       "      <td>18</td>\n",
       "      <td>7</td>\n",
       "    </tr>\n",
       "    <tr>\n",
       "      <th>18</th>\n",
       "      <td>YAL001C</td>\n",
       "      <td>19</td>\n",
       "      <td>2</td>\n",
       "      <td>YAL001C</td>\n",
       "      <td>19</td>\n",
       "      <td>7</td>\n",
       "    </tr>\n",
       "    <tr>\n",
       "      <th>19</th>\n",
       "      <td>YAL001C</td>\n",
       "      <td>20</td>\n",
       "      <td>3</td>\n",
       "      <td>YAL001C</td>\n",
       "      <td>20</td>\n",
       "      <td>7</td>\n",
       "    </tr>\n",
       "    <tr>\n",
       "      <th>20</th>\n",
       "      <td>YAL001C</td>\n",
       "      <td>21</td>\n",
       "      <td>3</td>\n",
       "      <td>YAL001C</td>\n",
       "      <td>21</td>\n",
       "      <td>7</td>\n",
       "    </tr>\n",
       "    <tr>\n",
       "      <th>21</th>\n",
       "      <td>YAL001C</td>\n",
       "      <td>22</td>\n",
       "      <td>4</td>\n",
       "      <td>YAL001C</td>\n",
       "      <td>22</td>\n",
       "      <td>7</td>\n",
       "    </tr>\n",
       "    <tr>\n",
       "      <th>22</th>\n",
       "      <td>YAL001C</td>\n",
       "      <td>23</td>\n",
       "      <td>4</td>\n",
       "      <td>YAL001C</td>\n",
       "      <td>23</td>\n",
       "      <td>7</td>\n",
       "    </tr>\n",
       "    <tr>\n",
       "      <th>23</th>\n",
       "      <td>YAL001C</td>\n",
       "      <td>24</td>\n",
       "      <td>4</td>\n",
       "      <td>YAL001C</td>\n",
       "      <td>24</td>\n",
       "      <td>7</td>\n",
       "    </tr>\n",
       "    <tr>\n",
       "      <th>24</th>\n",
       "      <td>YAL001C</td>\n",
       "      <td>25</td>\n",
       "      <td>4</td>\n",
       "      <td>YAL001C</td>\n",
       "      <td>25</td>\n",
       "      <td>7</td>\n",
       "    </tr>\n",
       "    <tr>\n",
       "      <th>25</th>\n",
       "      <td>YAL001C</td>\n",
       "      <td>26</td>\n",
       "      <td>5</td>\n",
       "      <td>YAL001C</td>\n",
       "      <td>26</td>\n",
       "      <td>7</td>\n",
       "    </tr>\n",
       "    <tr>\n",
       "      <th>26</th>\n",
       "      <td>YAL001C</td>\n",
       "      <td>27</td>\n",
       "      <td>5</td>\n",
       "      <td>YAL001C</td>\n",
       "      <td>27</td>\n",
       "      <td>7</td>\n",
       "    </tr>\n",
       "    <tr>\n",
       "      <th>27</th>\n",
       "      <td>YAL001C</td>\n",
       "      <td>28</td>\n",
       "      <td>5</td>\n",
       "      <td>YAL001C</td>\n",
       "      <td>28</td>\n",
       "      <td>7</td>\n",
       "    </tr>\n",
       "    <tr>\n",
       "      <th>28</th>\n",
       "      <td>YAL001C</td>\n",
       "      <td>29</td>\n",
       "      <td>6</td>\n",
       "      <td>YAL001C</td>\n",
       "      <td>29</td>\n",
       "      <td>7</td>\n",
       "    </tr>\n",
       "    <tr>\n",
       "      <th>29</th>\n",
       "      <td>YAL001C</td>\n",
       "      <td>30</td>\n",
       "      <td>10</td>\n",
       "      <td>YAL001C</td>\n",
       "      <td>30</td>\n",
       "      <td>6</td>\n",
       "    </tr>\n",
       "    <tr>\n",
       "      <th>...</th>\n",
       "      <td>...</td>\n",
       "      <td>...</td>\n",
       "      <td>...</td>\n",
       "      <td>...</td>\n",
       "      <td>...</td>\n",
       "      <td>...</td>\n",
       "    </tr>\n",
       "    <tr>\n",
       "      <th>4970</th>\n",
       "      <td>YAL002W</td>\n",
       "      <td>1488</td>\n",
       "      <td>1</td>\n",
       "      <td>YAL002W</td>\n",
       "      <td>1488</td>\n",
       "      <td>2</td>\n",
       "    </tr>\n",
       "    <tr>\n",
       "      <th>4971</th>\n",
       "      <td>YAL002W</td>\n",
       "      <td>1489</td>\n",
       "      <td>1</td>\n",
       "      <td>YAL002W</td>\n",
       "      <td>1489</td>\n",
       "      <td>2</td>\n",
       "    </tr>\n",
       "    <tr>\n",
       "      <th>4972</th>\n",
       "      <td>YAL002W</td>\n",
       "      <td>1490</td>\n",
       "      <td>1</td>\n",
       "      <td>YAL002W</td>\n",
       "      <td>1490</td>\n",
       "      <td>2</td>\n",
       "    </tr>\n",
       "    <tr>\n",
       "      <th>4973</th>\n",
       "      <td>YAL002W</td>\n",
       "      <td>1491</td>\n",
       "      <td>1</td>\n",
       "      <td>YAL002W</td>\n",
       "      <td>1491</td>\n",
       "      <td>2</td>\n",
       "    </tr>\n",
       "    <tr>\n",
       "      <th>4974</th>\n",
       "      <td>YAL002W</td>\n",
       "      <td>1492</td>\n",
       "      <td>1</td>\n",
       "      <td>YAL002W</td>\n",
       "      <td>1492</td>\n",
       "      <td>2</td>\n",
       "    </tr>\n",
       "    <tr>\n",
       "      <th>4975</th>\n",
       "      <td>YAL002W</td>\n",
       "      <td>1493</td>\n",
       "      <td>1</td>\n",
       "      <td>YAL002W</td>\n",
       "      <td>1493</td>\n",
       "      <td>2</td>\n",
       "    </tr>\n",
       "    <tr>\n",
       "      <th>4976</th>\n",
       "      <td>YAL002W</td>\n",
       "      <td>1494</td>\n",
       "      <td>1</td>\n",
       "      <td>YAL002W</td>\n",
       "      <td>1494</td>\n",
       "      <td>2</td>\n",
       "    </tr>\n",
       "    <tr>\n",
       "      <th>4977</th>\n",
       "      <td>YAL002W</td>\n",
       "      <td>1495</td>\n",
       "      <td>0</td>\n",
       "      <td>YAL002W</td>\n",
       "      <td>1495</td>\n",
       "      <td>2</td>\n",
       "    </tr>\n",
       "    <tr>\n",
       "      <th>4978</th>\n",
       "      <td>YAL002W</td>\n",
       "      <td>1496</td>\n",
       "      <td>0</td>\n",
       "      <td>YAL002W</td>\n",
       "      <td>1496</td>\n",
       "      <td>2</td>\n",
       "    </tr>\n",
       "    <tr>\n",
       "      <th>4979</th>\n",
       "      <td>YAL002W</td>\n",
       "      <td>1497</td>\n",
       "      <td>0</td>\n",
       "      <td>YAL002W</td>\n",
       "      <td>1497</td>\n",
       "      <td>2</td>\n",
       "    </tr>\n",
       "    <tr>\n",
       "      <th>4980</th>\n",
       "      <td>YAL002W</td>\n",
       "      <td>1498</td>\n",
       "      <td>0</td>\n",
       "      <td>YAL002W</td>\n",
       "      <td>1498</td>\n",
       "      <td>2</td>\n",
       "    </tr>\n",
       "    <tr>\n",
       "      <th>4981</th>\n",
       "      <td>YAL002W</td>\n",
       "      <td>1499</td>\n",
       "      <td>0</td>\n",
       "      <td>YAL002W</td>\n",
       "      <td>1499</td>\n",
       "      <td>2</td>\n",
       "    </tr>\n",
       "    <tr>\n",
       "      <th>4982</th>\n",
       "      <td>YAL002W</td>\n",
       "      <td>1500</td>\n",
       "      <td>0</td>\n",
       "      <td>YAL002W</td>\n",
       "      <td>1500</td>\n",
       "      <td>2</td>\n",
       "    </tr>\n",
       "    <tr>\n",
       "      <th>4983</th>\n",
       "      <td>YAL002W</td>\n",
       "      <td>1501</td>\n",
       "      <td>0</td>\n",
       "      <td>YAL002W</td>\n",
       "      <td>1501</td>\n",
       "      <td>2</td>\n",
       "    </tr>\n",
       "    <tr>\n",
       "      <th>4984</th>\n",
       "      <td>YAL002W</td>\n",
       "      <td>1502</td>\n",
       "      <td>0</td>\n",
       "      <td>YAL002W</td>\n",
       "      <td>1502</td>\n",
       "      <td>2</td>\n",
       "    </tr>\n",
       "    <tr>\n",
       "      <th>4985</th>\n",
       "      <td>YAL002W</td>\n",
       "      <td>1503</td>\n",
       "      <td>0</td>\n",
       "      <td>YAL002W</td>\n",
       "      <td>1503</td>\n",
       "      <td>2</td>\n",
       "    </tr>\n",
       "    <tr>\n",
       "      <th>4986</th>\n",
       "      <td>YAL002W</td>\n",
       "      <td>1504</td>\n",
       "      <td>0</td>\n",
       "      <td>YAL002W</td>\n",
       "      <td>1504</td>\n",
       "      <td>2</td>\n",
       "    </tr>\n",
       "    <tr>\n",
       "      <th>4987</th>\n",
       "      <td>YAL002W</td>\n",
       "      <td>1505</td>\n",
       "      <td>0</td>\n",
       "      <td>YAL002W</td>\n",
       "      <td>1505</td>\n",
       "      <td>2</td>\n",
       "    </tr>\n",
       "    <tr>\n",
       "      <th>4988</th>\n",
       "      <td>YAL002W</td>\n",
       "      <td>1506</td>\n",
       "      <td>1</td>\n",
       "      <td>YAL002W</td>\n",
       "      <td>1506</td>\n",
       "      <td>3</td>\n",
       "    </tr>\n",
       "    <tr>\n",
       "      <th>4989</th>\n",
       "      <td>YAL002W</td>\n",
       "      <td>1507</td>\n",
       "      <td>1</td>\n",
       "      <td>YAL002W</td>\n",
       "      <td>1507</td>\n",
       "      <td>3</td>\n",
       "    </tr>\n",
       "    <tr>\n",
       "      <th>4990</th>\n",
       "      <td>YAL002W</td>\n",
       "      <td>1508</td>\n",
       "      <td>1</td>\n",
       "      <td>YAL002W</td>\n",
       "      <td>1508</td>\n",
       "      <td>2</td>\n",
       "    </tr>\n",
       "    <tr>\n",
       "      <th>4991</th>\n",
       "      <td>YAL002W</td>\n",
       "      <td>1509</td>\n",
       "      <td>3</td>\n",
       "      <td>YAL002W</td>\n",
       "      <td>1509</td>\n",
       "      <td>2</td>\n",
       "    </tr>\n",
       "    <tr>\n",
       "      <th>4992</th>\n",
       "      <td>YAL002W</td>\n",
       "      <td>1510</td>\n",
       "      <td>3</td>\n",
       "      <td>YAL002W</td>\n",
       "      <td>1510</td>\n",
       "      <td>2</td>\n",
       "    </tr>\n",
       "    <tr>\n",
       "      <th>4993</th>\n",
       "      <td>YAL002W</td>\n",
       "      <td>1511</td>\n",
       "      <td>3</td>\n",
       "      <td>YAL002W</td>\n",
       "      <td>1511</td>\n",
       "      <td>2</td>\n",
       "    </tr>\n",
       "    <tr>\n",
       "      <th>4994</th>\n",
       "      <td>YAL002W</td>\n",
       "      <td>1512</td>\n",
       "      <td>4</td>\n",
       "      <td>YAL002W</td>\n",
       "      <td>1512</td>\n",
       "      <td>2</td>\n",
       "    </tr>\n",
       "    <tr>\n",
       "      <th>4995</th>\n",
       "      <td>YAL002W</td>\n",
       "      <td>1513</td>\n",
       "      <td>4</td>\n",
       "      <td>YAL002W</td>\n",
       "      <td>1513</td>\n",
       "      <td>2</td>\n",
       "    </tr>\n",
       "    <tr>\n",
       "      <th>4996</th>\n",
       "      <td>YAL002W</td>\n",
       "      <td>1514</td>\n",
       "      <td>4</td>\n",
       "      <td>YAL002W</td>\n",
       "      <td>1514</td>\n",
       "      <td>1</td>\n",
       "    </tr>\n",
       "    <tr>\n",
       "      <th>4997</th>\n",
       "      <td>YAL002W</td>\n",
       "      <td>1515</td>\n",
       "      <td>4</td>\n",
       "      <td>YAL002W</td>\n",
       "      <td>1515</td>\n",
       "      <td>2</td>\n",
       "    </tr>\n",
       "    <tr>\n",
       "      <th>4998</th>\n",
       "      <td>YAL002W</td>\n",
       "      <td>1516</td>\n",
       "      <td>5</td>\n",
       "      <td>YAL002W</td>\n",
       "      <td>1516</td>\n",
       "      <td>2</td>\n",
       "    </tr>\n",
       "    <tr>\n",
       "      <th>4999</th>\n",
       "      <td>YAL002W</td>\n",
       "      <td>1517</td>\n",
       "      <td>5</td>\n",
       "      <td>YAL002W</td>\n",
       "      <td>1517</td>\n",
       "      <td>2</td>\n",
       "    </tr>\n",
       "  </tbody>\n",
       "</table>\n",
       "<p>5000 rows × 6 columns</p>\n",
       "</div>"
      ],
      "text/plain": [
       "       transc  position  cov_depth   transc  position  cov_depth\n",
       "0     YAL001C         1          0  YAL001C         1          1\n",
       "1     YAL001C         2          0  YAL001C         2          3\n",
       "2     YAL001C         3          0  YAL001C         3          6\n",
       "3     YAL001C         4          0  YAL001C         4          6\n",
       "4     YAL001C         5          0  YAL001C         5          6\n",
       "5     YAL001C         6          1  YAL001C         6          6\n",
       "6     YAL001C         7          2  YAL001C         7          7\n",
       "7     YAL001C         8          2  YAL001C         8          7\n",
       "8     YAL001C         9          2  YAL001C         9          7\n",
       "9     YAL001C        10          2  YAL001C        10          7\n",
       "10    YAL001C        11          2  YAL001C        11          7\n",
       "11    YAL001C        12          2  YAL001C        12          7\n",
       "12    YAL001C        13          2  YAL001C        13          7\n",
       "13    YAL001C        14          2  YAL001C        14          7\n",
       "14    YAL001C        15          2  YAL001C        15          7\n",
       "15    YAL001C        16          2  YAL001C        16          7\n",
       "16    YAL001C        17          2  YAL001C        17          7\n",
       "17    YAL001C        18          2  YAL001C        18          7\n",
       "18    YAL001C        19          2  YAL001C        19          7\n",
       "19    YAL001C        20          3  YAL001C        20          7\n",
       "20    YAL001C        21          3  YAL001C        21          7\n",
       "21    YAL001C        22          4  YAL001C        22          7\n",
       "22    YAL001C        23          4  YAL001C        23          7\n",
       "23    YAL001C        24          4  YAL001C        24          7\n",
       "24    YAL001C        25          4  YAL001C        25          7\n",
       "25    YAL001C        26          5  YAL001C        26          7\n",
       "26    YAL001C        27          5  YAL001C        27          7\n",
       "27    YAL001C        28          5  YAL001C        28          7\n",
       "28    YAL001C        29          6  YAL001C        29          7\n",
       "29    YAL001C        30         10  YAL001C        30          6\n",
       "...       ...       ...        ...      ...       ...        ...\n",
       "4970  YAL002W      1488          1  YAL002W      1488          2\n",
       "4971  YAL002W      1489          1  YAL002W      1489          2\n",
       "4972  YAL002W      1490          1  YAL002W      1490          2\n",
       "4973  YAL002W      1491          1  YAL002W      1491          2\n",
       "4974  YAL002W      1492          1  YAL002W      1492          2\n",
       "4975  YAL002W      1493          1  YAL002W      1493          2\n",
       "4976  YAL002W      1494          1  YAL002W      1494          2\n",
       "4977  YAL002W      1495          0  YAL002W      1495          2\n",
       "4978  YAL002W      1496          0  YAL002W      1496          2\n",
       "4979  YAL002W      1497          0  YAL002W      1497          2\n",
       "4980  YAL002W      1498          0  YAL002W      1498          2\n",
       "4981  YAL002W      1499          0  YAL002W      1499          2\n",
       "4982  YAL002W      1500          0  YAL002W      1500          2\n",
       "4983  YAL002W      1501          0  YAL002W      1501          2\n",
       "4984  YAL002W      1502          0  YAL002W      1502          2\n",
       "4985  YAL002W      1503          0  YAL002W      1503          2\n",
       "4986  YAL002W      1504          0  YAL002W      1504          2\n",
       "4987  YAL002W      1505          0  YAL002W      1505          2\n",
       "4988  YAL002W      1506          1  YAL002W      1506          3\n",
       "4989  YAL002W      1507          1  YAL002W      1507          3\n",
       "4990  YAL002W      1508          1  YAL002W      1508          2\n",
       "4991  YAL002W      1509          3  YAL002W      1509          2\n",
       "4992  YAL002W      1510          3  YAL002W      1510          2\n",
       "4993  YAL002W      1511          3  YAL002W      1511          2\n",
       "4994  YAL002W      1512          4  YAL002W      1512          2\n",
       "4995  YAL002W      1513          4  YAL002W      1513          2\n",
       "4996  YAL002W      1514          4  YAL002W      1514          1\n",
       "4997  YAL002W      1515          4  YAL002W      1515          2\n",
       "4998  YAL002W      1516          5  YAL002W      1516          2\n",
       "4999  YAL002W      1517          5  YAL002W      1517          2\n",
       "\n",
       "[5000 rows x 6 columns]"
      ]
     },
     "execution_count": 14,
     "metadata": {},
     "output_type": "execute_result"
    }
   ],
   "source": [
    "pd.concat([test1,test2],axis=1)"
   ]
  },
  {
   "cell_type": "code",
   "execution_count": 12,
   "metadata": {},
   "outputs": [],
   "source": [
    "pd.concat([test1,test2],axis=1)"
   ]
  },
  {
   "cell_type": "code",
   "execution_count": 84,
   "metadata": {},
   "outputs": [],
   "source": [
    "testm=pd.merge(test1,test2,on=['transc','position'],how='outer',suffixes=('test1','test2'))"
   ]
  },
  {
   "cell_type": "code",
   "execution_count": 86,
   "metadata": {},
   "outputs": [
    {
     "name": "stdout",
     "output_type": "stream",
     "text": [
      "       transc  position  cov_depthtest1  cov_depthtest2\n",
      "4995  YAL002W      1513               4               2\n",
      "4996  YAL002W      1514               4               1\n",
      "4997  YAL002W      1515               4               2\n",
      "4998  YAL002W      1516               5               2\n",
      "4999  YAL002W      1517               5               2 \n",
      "     transc  position  cov_depthtest1  cov_depthtest2\n",
      "0  YAL001C         1               0               1\n",
      "1  YAL001C         2               0               3\n",
      "2  YAL001C         3               0               6\n",
      "3  YAL001C         4               0               6\n",
      "4  YAL001C         5               0               6\n"
     ]
    }
   ],
   "source": [
    "print(testm.tail(),'\\n',testm.head())"
   ]
  },
  {
   "cell_type": "code",
   "execution_count": 87,
   "metadata": {},
   "outputs": [
    {
     "data": {
      "text/html": [
       "<div>\n",
       "<style scoped>\n",
       "    .dataframe tbody tr th:only-of-type {\n",
       "        vertical-align: middle;\n",
       "    }\n",
       "\n",
       "    .dataframe tbody tr th {\n",
       "        vertical-align: top;\n",
       "    }\n",
       "\n",
       "    .dataframe thead th {\n",
       "        text-align: right;\n",
       "    }\n",
       "</style>\n",
       "<table border=\"1\" class=\"dataframe\">\n",
       "  <thead>\n",
       "    <tr style=\"text-align: right;\">\n",
       "      <th></th>\n",
       "      <th>transc</th>\n",
       "      <th>position</th>\n",
       "      <th>cov_depthtest1</th>\n",
       "      <th>cov_depthtest2</th>\n",
       "    </tr>\n",
       "  </thead>\n",
       "  <tbody>\n",
       "    <tr>\n",
       "      <th>0</th>\n",
       "      <td>YAL001C</td>\n",
       "      <td>1</td>\n",
       "      <td>0</td>\n",
       "      <td>1</td>\n",
       "    </tr>\n",
       "    <tr>\n",
       "      <th>3483</th>\n",
       "      <td>YAL002W</td>\n",
       "      <td>1</td>\n",
       "      <td>0</td>\n",
       "      <td>0</td>\n",
       "    </tr>\n",
       "  </tbody>\n",
       "</table>\n",
       "</div>"
      ],
      "text/plain": [
       "       transc  position  cov_depthtest1  cov_depthtest2\n",
       "0     YAL001C         1               0               1\n",
       "3483  YAL002W         1               0               0"
      ]
     },
     "execution_count": 87,
     "metadata": {},
     "output_type": "execute_result"
    }
   ],
   "source": [
    "testm[testm['position']==1]"
   ]
  },
  {
   "cell_type": "code",
   "execution_count": 85,
   "metadata": {},
   "outputs": [
    {
     "data": {
      "text/plain": [
       "transc            0\n",
       "position          0\n",
       "cov_depthtest1    0\n",
       "cov_depthtest2    0\n",
       "dtype: int64"
      ]
     },
     "execution_count": 85,
     "metadata": {},
     "output_type": "execute_result"
    }
   ],
   "source": [
    "testm.isna().sum()"
   ]
  },
  {
   "cell_type": "markdown",
   "metadata": {},
   "source": [
    "### Groupby correlation and formatting the table\n",
    "want a table like this:\n",
    "\n",
    "transcript | pearson coefficient\n",
    "--- | ---\n",
    "trancript A | 0.xx\n",
    "trancript B | 0.xx"
   ]
  },
  {
   "cell_type": "code",
   "execution_count": 33,
   "metadata": {},
   "outputs": [
    {
     "data": {
      "text/plain": [
       "0.32529225506811155"
      ]
     },
     "execution_count": 33,
     "metadata": {},
     "output_type": "execute_result"
    }
   ],
   "source": [
    "testm['cov_depthtest1'].corr(testm['cov_depthtest2'])"
   ]
  },
  {
   "cell_type": "code",
   "execution_count": 44,
   "metadata": {},
   "outputs": [
    {
     "data": {
      "text/html": [
       "<div>\n",
       "<style scoped>\n",
       "    .dataframe tbody tr th:only-of-type {\n",
       "        vertical-align: middle;\n",
       "    }\n",
       "\n",
       "    .dataframe tbody tr th {\n",
       "        vertical-align: top;\n",
       "    }\n",
       "\n",
       "    .dataframe thead th {\n",
       "        text-align: right;\n",
       "    }\n",
       "</style>\n",
       "<table border=\"1\" class=\"dataframe\">\n",
       "  <thead>\n",
       "    <tr style=\"text-align: right;\">\n",
       "      <th></th>\n",
       "      <th></th>\n",
       "      <th>cov_depthtest1</th>\n",
       "      <th>cov_depthtest2</th>\n",
       "    </tr>\n",
       "    <tr>\n",
       "      <th>transc</th>\n",
       "      <th></th>\n",
       "      <th></th>\n",
       "      <th></th>\n",
       "    </tr>\n",
       "  </thead>\n",
       "  <tbody>\n",
       "    <tr>\n",
       "      <th rowspan=\"2\" valign=\"top\">YAL001C</th>\n",
       "      <th>cov_depthtest1</th>\n",
       "      <td>1.000000</td>\n",
       "      <td>0.340338</td>\n",
       "    </tr>\n",
       "    <tr>\n",
       "      <th>cov_depthtest2</th>\n",
       "      <td>0.340338</td>\n",
       "      <td>1.000000</td>\n",
       "    </tr>\n",
       "    <tr>\n",
       "      <th rowspan=\"2\" valign=\"top\">YAL002W</th>\n",
       "      <th>cov_depthtest1</th>\n",
       "      <td>1.000000</td>\n",
       "      <td>0.234730</td>\n",
       "    </tr>\n",
       "    <tr>\n",
       "      <th>cov_depthtest2</th>\n",
       "      <td>0.234730</td>\n",
       "      <td>1.000000</td>\n",
       "    </tr>\n",
       "  </tbody>\n",
       "</table>\n",
       "</div>"
      ],
      "text/plain": [
       "                        cov_depthtest1  cov_depthtest2\n",
       "transc                                                \n",
       "YAL001C cov_depthtest1        1.000000        0.340338\n",
       "        cov_depthtest2        0.340338        1.000000\n",
       "YAL002W cov_depthtest1        1.000000        0.234730\n",
       "        cov_depthtest2        0.234730        1.000000"
      ]
     },
     "execution_count": 44,
     "metadata": {},
     "output_type": "execute_result"
    }
   ],
   "source": [
    "testm.drop('position',axis=1).groupby('transc').corr()"
   ]
  },
  {
   "cell_type": "code",
   "execution_count": 58,
   "metadata": {},
   "outputs": [
    {
     "data": {
      "text/html": [
       "<div>\n",
       "<style scoped>\n",
       "    .dataframe tbody tr th:only-of-type {\n",
       "        vertical-align: middle;\n",
       "    }\n",
       "\n",
       "    .dataframe tbody tr th {\n",
       "        vertical-align: top;\n",
       "    }\n",
       "\n",
       "    .dataframe thead th {\n",
       "        text-align: right;\n",
       "    }\n",
       "</style>\n",
       "<table border=\"1\" class=\"dataframe\">\n",
       "  <thead>\n",
       "    <tr style=\"text-align: right;\">\n",
       "      <th></th>\n",
       "      <th></th>\n",
       "      <th>cov_depthtest1</th>\n",
       "      <th>cov_depthtest2</th>\n",
       "    </tr>\n",
       "    <tr>\n",
       "      <th>transc</th>\n",
       "      <th></th>\n",
       "      <th></th>\n",
       "      <th></th>\n",
       "    </tr>\n",
       "  </thead>\n",
       "  <tbody>\n",
       "    <tr>\n",
       "      <th rowspan=\"2\" valign=\"top\">YAL001C</th>\n",
       "      <th>cov_depthtest1</th>\n",
       "      <td>1.000000</td>\n",
       "      <td>0.340338</td>\n",
       "    </tr>\n",
       "    <tr>\n",
       "      <th>cov_depthtest2</th>\n",
       "      <td>0.340338</td>\n",
       "      <td>1.000000</td>\n",
       "    </tr>\n",
       "    <tr>\n",
       "      <th rowspan=\"2\" valign=\"top\">YAL002W</th>\n",
       "      <th>cov_depthtest1</th>\n",
       "      <td>1.000000</td>\n",
       "      <td>0.234730</td>\n",
       "    </tr>\n",
       "    <tr>\n",
       "      <th>cov_depthtest2</th>\n",
       "      <td>0.234730</td>\n",
       "      <td>1.000000</td>\n",
       "    </tr>\n",
       "  </tbody>\n",
       "</table>\n",
       "</div>"
      ],
      "text/plain": [
       "                        cov_depthtest1  cov_depthtest2\n",
       "transc                                                \n",
       "YAL001C cov_depthtest1        1.000000        0.340338\n",
       "        cov_depthtest2        0.340338        1.000000\n",
       "YAL002W cov_depthtest1        1.000000        0.234730\n",
       "        cov_depthtest2        0.234730        1.000000"
      ]
     },
     "execution_count": 58,
     "metadata": {},
     "output_type": "execute_result"
    }
   ],
   "source": [
    "testm.groupby('transc')[['cov_depthtest1','cov_depthtest2']].corr()"
   ]
  },
  {
   "cell_type": "markdown",
   "metadata": {},
   "source": [
    "---"
   ]
  },
  {
   "cell_type": "markdown",
   "metadata": {},
   "source": [
    "### lots of ways to do this"
   ]
  },
  {
   "cell_type": "markdown",
   "metadata": {},
   "source": [
    "result: multi-index series"
   ]
  },
  {
   "cell_type": "code",
   "execution_count": 35,
   "metadata": {},
   "outputs": [
    {
     "data": {
      "text/plain": [
       "transc                 \n",
       "YAL001C  cov_depthtest1    0.340338\n",
       "YAL002W  cov_depthtest1    0.234730\n",
       "Name: cov_depthtest2, dtype: float64"
      ]
     },
     "execution_count": 35,
     "metadata": {},
     "output_type": "execute_result"
    }
   ],
   "source": [
    "testm.drop('position',axis=1).groupby('transc').corr().iloc[0::2,-1]"
   ]
  },
  {
   "cell_type": "code",
   "execution_count": 50,
   "metadata": {},
   "outputs": [
    {
     "data": {
      "text/plain": [
       "transc                 \n",
       "YAL001C  cov_depthtest1    0.340338\n",
       "YAL002W  cov_depthtest1    0.234730\n",
       "Name: cov_depthtest2, dtype: float64"
      ]
     },
     "execution_count": 50,
     "metadata": {},
     "output_type": "execute_result"
    }
   ],
   "source": [
    "testm.drop('position',axis=1).groupby('transc').corr().iloc[0::2]['cov_depthtest2']"
   ]
  },
  {
   "cell_type": "code",
   "execution_count": 49,
   "metadata": {},
   "outputs": [
    {
     "data": {
      "text/plain": [
       "MultiIndex(levels=[['YAL001C', 'YAL002W'], ['cov_depthtest1', 'cov_depthtest2']],\n",
       "           labels=[[0, 1], [0, 0]],\n",
       "           names=['transc', None])"
      ]
     },
     "execution_count": 49,
     "metadata": {},
     "output_type": "execute_result"
    }
   ],
   "source": [
    "testm.drop('position',axis=1).groupby('transc').corr().iloc[0::2]['cov_depthtest2'].index"
   ]
  },
  {
   "cell_type": "markdown",
   "metadata": {},
   "source": [
    "result: multi-index dataframe"
   ]
  },
  {
   "cell_type": "code",
   "execution_count": 48,
   "metadata": {
    "scrolled": true
   },
   "outputs": [
    {
     "data": {
      "text/html": [
       "<div>\n",
       "<style scoped>\n",
       "    .dataframe tbody tr th:only-of-type {\n",
       "        vertical-align: middle;\n",
       "    }\n",
       "\n",
       "    .dataframe tbody tr th {\n",
       "        vertical-align: top;\n",
       "    }\n",
       "\n",
       "    .dataframe thead th {\n",
       "        text-align: right;\n",
       "    }\n",
       "</style>\n",
       "<table border=\"1\" class=\"dataframe\">\n",
       "  <thead>\n",
       "    <tr style=\"text-align: right;\">\n",
       "      <th></th>\n",
       "      <th></th>\n",
       "      <th>cov_depthtest2</th>\n",
       "    </tr>\n",
       "    <tr>\n",
       "      <th>transc</th>\n",
       "      <th></th>\n",
       "      <th></th>\n",
       "    </tr>\n",
       "  </thead>\n",
       "  <tbody>\n",
       "    <tr>\n",
       "      <th>YAL001C</th>\n",
       "      <th>cov_depthtest1</th>\n",
       "      <td>0.340338</td>\n",
       "    </tr>\n",
       "    <tr>\n",
       "      <th>YAL002W</th>\n",
       "      <th>cov_depthtest1</th>\n",
       "      <td>0.234730</td>\n",
       "    </tr>\n",
       "  </tbody>\n",
       "</table>\n",
       "</div>"
      ],
      "text/plain": [
       "                        cov_depthtest2\n",
       "transc                                \n",
       "YAL001C cov_depthtest1        0.340338\n",
       "YAL002W cov_depthtest1        0.234730"
      ]
     },
     "execution_count": 48,
     "metadata": {},
     "output_type": "execute_result"
    }
   ],
   "source": [
    "testm.drop('position',axis=1).groupby('transc').corr().iloc[0::2][['cov_depthtest2']]"
   ]
  },
  {
   "cell_type": "code",
   "execution_count": 51,
   "metadata": {
    "scrolled": true
   },
   "outputs": [
    {
     "data": {
      "text/plain": [
       "MultiIndex(levels=[['YAL001C', 'YAL002W'], ['cov_depthtest1', 'cov_depthtest2']],\n",
       "           labels=[[0, 1], [0, 0]],\n",
       "           names=['transc', None])"
      ]
     },
     "execution_count": 51,
     "metadata": {},
     "output_type": "execute_result"
    }
   ],
   "source": [
    "testm.drop('position',axis=1).groupby('transc').corr().iloc[0::2][['cov_depthtest2']].index"
   ]
  },
  {
   "cell_type": "markdown",
   "metadata": {},
   "source": [
    "**Drop multi-index**"
   ]
  },
  {
   "cell_type": "code",
   "execution_count": 55,
   "metadata": {
    "scrolled": true
   },
   "outputs": [
    {
     "data": {
      "text/plain": [
       "Index(['YAL001C', 'YAL002W'], dtype='object', name='transc')"
      ]
     },
     "execution_count": 55,
     "metadata": {},
     "output_type": "execute_result"
    }
   ],
   "source": [
    "testm.drop('position',axis=1).groupby('transc').corr().iloc[0::2][['cov_depthtest2']].index.droplevel(1)"
   ]
  },
  {
   "cell_type": "code",
   "execution_count": 99,
   "metadata": {
    "scrolled": true
   },
   "outputs": [
    {
     "data": {
      "text/html": [
       "<div>\n",
       "<style scoped>\n",
       "    .dataframe tbody tr th:only-of-type {\n",
       "        vertical-align: middle;\n",
       "    }\n",
       "\n",
       "    .dataframe tbody tr th {\n",
       "        vertical-align: top;\n",
       "    }\n",
       "\n",
       "    .dataframe thead th {\n",
       "        text-align: right;\n",
       "    }\n",
       "</style>\n",
       "<table border=\"1\" class=\"dataframe\">\n",
       "  <thead>\n",
       "    <tr style=\"text-align: right;\">\n",
       "      <th></th>\n",
       "      <th>R (pearson correlation)</th>\n",
       "      <th>R squared</th>\n",
       "    </tr>\n",
       "    <tr>\n",
       "      <th>transc</th>\n",
       "      <th></th>\n",
       "      <th></th>\n",
       "    </tr>\n",
       "  </thead>\n",
       "  <tbody>\n",
       "    <tr>\n",
       "      <th>YAL001C</th>\n",
       "      <td>0.340338</td>\n",
       "      <td>0.115830</td>\n",
       "    </tr>\n",
       "    <tr>\n",
       "      <th>YAL002W</th>\n",
       "      <td>0.234730</td>\n",
       "      <td>0.055098</td>\n",
       "    </tr>\n",
       "  </tbody>\n",
       "</table>\n",
       "</div>"
      ],
      "text/plain": [
       "         R (pearson correlation)  R squared\n",
       "transc                                     \n",
       "YAL001C                 0.340338   0.115830\n",
       "YAL002W                 0.234730   0.055098"
      ]
     },
     "execution_count": 99,
     "metadata": {},
     "output_type": "execute_result"
    }
   ],
   "source": [
    "test_corr_df = testm.drop('position',axis=1).groupby('transc').corr().iloc[0::2,-1]\n",
    "test_corr_df.index = test_corr_df.index.droplevel(1)\n",
    "test_corr_df = test_corr_df.to_frame()\n",
    "test_corr_df.columns = ['R (pearson correlation)']\n",
    "test_corr_df['R squared'] = test_corr_df['R (pearson correlation)']**2\n",
    "test_corr_df"
   ]
  },
  {
   "cell_type": "code",
   "execution_count": 63,
   "metadata": {
    "scrolled": true
   },
   "outputs": [
    {
     "data": {
      "text/html": [
       "<div>\n",
       "<style scoped>\n",
       "    .dataframe tbody tr th:only-of-type {\n",
       "        vertical-align: middle;\n",
       "    }\n",
       "\n",
       "    .dataframe tbody tr th {\n",
       "        vertical-align: top;\n",
       "    }\n",
       "\n",
       "    .dataframe thead th {\n",
       "        text-align: right;\n",
       "    }\n",
       "</style>\n",
       "<table border=\"1\" class=\"dataframe\">\n",
       "  <thead>\n",
       "    <tr style=\"text-align: right;\">\n",
       "      <th></th>\n",
       "      <th>R (pearson correlation)</th>\n",
       "      <th>R squared</th>\n",
       "    </tr>\n",
       "    <tr>\n",
       "      <th>transc</th>\n",
       "      <th></th>\n",
       "      <th></th>\n",
       "    </tr>\n",
       "  </thead>\n",
       "  <tbody>\n",
       "    <tr>\n",
       "      <th>YAL001C</th>\n",
       "      <td>0.340338</td>\n",
       "      <td>0.115830</td>\n",
       "    </tr>\n",
       "    <tr>\n",
       "      <th>YAL002W</th>\n",
       "      <td>0.234730</td>\n",
       "      <td>0.055098</td>\n",
       "    </tr>\n",
       "  </tbody>\n",
       "</table>\n",
       "</div>"
      ],
      "text/plain": [
       "         R (pearson correlation)  R squared\n",
       "transc                                     \n",
       "YAL001C                 0.340338   0.115830\n",
       "YAL002W                 0.234730   0.055098"
      ]
     },
     "execution_count": 63,
     "metadata": {},
     "output_type": "execute_result"
    }
   ],
   "source": [
    "test_corr_df = testm.drop('position',axis=1).groupby('transc').corr().iloc[0::2][['cov_depthtest2']]\n",
    "test_corr_df.index = test_corr_df.index.droplevel(1)\n",
    "test_corr_df.columns = ['R (pearson correlation)']\n",
    "test_corr_df['R squared'] = test_corr_df['R (pearson correlation)']**2\n",
    "test_corr_df"
   ]
  },
  {
   "cell_type": "markdown",
   "metadata": {},
   "source": [
    "## I should have it worked out now. On to the full data"
   ]
  },
  {
   "cell_type": "markdown",
   "metadata": {},
   "source": [
    "---"
   ]
  },
  {
   "cell_type": "markdown",
   "metadata": {},
   "source": [
    "### summary\n",
    "```python\n",
    "# import\n",
    "test1=pd.read_table(paths_a[0],header = None, names = ['transc','position','cov_depth']).head(5000)\n",
    "test2=pd.read_table(paths_a[1],header = None, names = ['transc','position','cov_depth']).head(5000)\n",
    "# merge\n",
    "testm=pd.merge(test1,test2,on=['transc','position'],how='outer',suffixes=('test1','test2'))\n",
    "# check for nan's\n",
    "testm.isna().sum()\n",
    "if testm.isna().sum().any()!=0:\n",
    "    raise Exception('NaNs in merged DataFrame')\n",
    "# correlation and table construction\n",
    "test_corr_df = testm.drop('position',axis=1).groupby('transc').corr().iloc[0::2,-1]\n",
    "test_corr_df.index = test_corr_df.index.droplevel(1)\n",
    "test_corr_df = test_corr_df.to_frame()\n",
    "test_corr_df.columns = ['R (pearson correlation)']\n",
    "test_corr_df['R squared'] = test_corr_df['R (pearson correlation)']**2\n",
    "test_corr_df\n",
    "```"
   ]
  },
  {
   "cell_type": "markdown",
   "metadata": {},
   "source": [
    "### double check the NaN check"
   ]
  },
  {
   "cell_type": "code",
   "execution_count": 75,
   "metadata": {},
   "outputs": [],
   "source": [
    "test1=pd.read_table(paths_a[0],header = None, names = ['transc','position','cov_depth']).head(5000)\n",
    "test2=pd.read_table(paths_a[1],header = None, names = ['transc','position','cov_depth']).head(4999)"
   ]
  },
  {
   "cell_type": "code",
   "execution_count": 76,
   "metadata": {},
   "outputs": [],
   "source": [
    "testm=pd.merge(test1,test2,on=['transc','position'],how='outer',suffixes=('test1','test2'))"
   ]
  },
  {
   "cell_type": "code",
   "execution_count": 77,
   "metadata": {},
   "outputs": [
    {
     "data": {
      "text/plain": [
       "transc            0\n",
       "position          0\n",
       "cov_depthtest1    0\n",
       "cov_depthtest2    1\n",
       "dtype: int64"
      ]
     },
     "execution_count": 77,
     "metadata": {},
     "output_type": "execute_result"
    }
   ],
   "source": [
    "testm.isna().sum()"
   ]
  },
  {
   "cell_type": "code",
   "execution_count": 78,
   "metadata": {},
   "outputs": [
    {
     "ename": "Exception",
     "evalue": "NaNs in merged DataFrame",
     "output_type": "error",
     "traceback": [
      "\u001b[0;31m---------------------------------------------------------------------------\u001b[0m",
      "\u001b[0;31mException\u001b[0m                                 Traceback (most recent call last)",
      "\u001b[0;32m<ipython-input-78-b07a373f76a7>\u001b[0m in \u001b[0;36m<module>\u001b[0;34m()\u001b[0m\n\u001b[1;32m      1\u001b[0m \u001b[0;32mif\u001b[0m \u001b[0mtestm\u001b[0m\u001b[0;34m.\u001b[0m\u001b[0misna\u001b[0m\u001b[0;34m(\u001b[0m\u001b[0;34m)\u001b[0m\u001b[0;34m.\u001b[0m\u001b[0msum\u001b[0m\u001b[0;34m(\u001b[0m\u001b[0;34m)\u001b[0m\u001b[0;34m.\u001b[0m\u001b[0many\u001b[0m\u001b[0;34m(\u001b[0m\u001b[0;34m)\u001b[0m\u001b[0;34m!=\u001b[0m\u001b[0;36m0\u001b[0m\u001b[0;34m:\u001b[0m\u001b[0;34m\u001b[0m\u001b[0m\n\u001b[0;32m----> 2\u001b[0;31m     \u001b[0;32mraise\u001b[0m \u001b[0mException\u001b[0m\u001b[0;34m(\u001b[0m\u001b[0;34m'NaNs in merged DataFrame'\u001b[0m\u001b[0;34m)\u001b[0m\u001b[0;34m\u001b[0m\u001b[0m\n\u001b[0m",
      "\u001b[0;31mException\u001b[0m: NaNs in merged DataFrame"
     ]
    }
   ],
   "source": [
    "if testm.isna().sum().any()!=0:\n",
    "    raise Exception('NaNs in merged DataFrame')"
   ]
  },
  {
   "cell_type": "markdown",
   "metadata": {},
   "source": [
    "## functions\n",
    "- function for import and merging\n",
    "- something for getting column suffixes from filenames (could use a dictionary or a regex function)\n",
    "    - I sort of already wrote a regex for this in `2-Developement/54-2018-07-28-k_mer_coverage_overlay_redo/`\n",
    "- function for correlation table\n",
    "- function for R and R^2 histogram\n",
    "\n",
    "---\n",
    "\n",
    "Note: I want to save the correlation tables in this current directory `./`"
   ]
  },
  {
   "cell_type": "code",
   "execution_count": 108,
   "metadata": {},
   "outputs": [],
   "source": [
    "filekey = {\n",
    "'./SRR948553_BBduk2_NEBtrim-rRNA-bbmap_trim_29-alignment--norc-a-v2-p4/SRR948553_BBduk2_NEBtrim-rRNA-bbmap_trim_29--norc-a-v2-p4-cov_dep.tsv.gz':'_SRR948553-bb-trim29-a-v2',\n",
    "'./SRR948553_BBduk2_NEBtrim-rRNA-bbmap_trim_29-alignment--norc-k1-v2-p4/SRR948553_BBduk2_NEBtrim-rRNA-bbmap_trim_29--norc-k1-v2-p4-cov_dep.tsv.gz':'_SRR948553-bb-trim29-k1-v2',\n",
    "'./SRR948553_BBduk2_NEBtrim-rRNA-bbmap_trim_29-alignment--norc-v2-p4-m1/SRR948553_BBduk2_NEBtrim-rRNA-bbmap_trim_29--norc-v2-p4-m1-cov_dep.tsv.gz':'_SRR948553-bb-trim29-v2-m1',\n",
    "'./SRR948555_BBduk2_NEBtrim-rRNA-bbmap_trim_29-alignment--norc-a-v2-p4/SRR948555_BBduk2_NEBtrim-rRNA-bbmap_trim_29--norc-a-v2-p4-cov_dep.tsv.gz':'_SRR948555-bb-trim29-a-v2',\n",
    "'./SRR948555_BBduk2_NEBtrim-rRNA-bbmap_trim_29-alignment--norc-k1-v2-p4/SRR948555_BBduk2_NEBtrim-rRNA-bbmap_trim_29--norc-k1-v2-p4-cov_dep.tsv.gz':'_SRR948555-bb-trim29-k1-v2',\n",
    "'./SRR948555_BBduk2_NEBtrim-rRNA-bbmap_trim_29-alignment--norc-v2-p4-m1/SRR948555_BBduk2_NEBtrim-rRNA-bbmap_trim_29--norc-v2-p4-m1-cov_dep.tsv.gz':'_SRR948555-bb-trim29-v2-m1'\n",
    "}"
   ]
  },
  {
   "cell_type": "code",
   "execution_count": 114,
   "metadata": {},
   "outputs": [],
   "source": [
    "def read_and_merge(filename1,filename2):\n",
    "    # import\n",
    "    df1=pd.read_table(filename1,header = None, names = ['transc','position','cov_depth'])\n",
    "    df2=pd.read_table(filename2,header = None, names = ['transc','position','cov_depth'])\n",
    "    suff1 = filekey[filename1] # filekey needs to be global variable for this to work\n",
    "    suff2 = filekey[filename2] # filekey needs to be global variable for this to work\n",
    "    \n",
    "    # merge\n",
    "    dfm=pd.merge(df1,df2,on=['transc','position'],how='outer',suffixes=(suff1,suff2))\n",
    "    \n",
    "    # check for nan's\n",
    "    if testm.isna().sum().any()!=0:\n",
    "        raise Exception('NaNs in merged DataFrame')\n",
    "    return (dfm, suff1, suff2)"
   ]
  },
  {
   "cell_type": "code",
   "execution_count": 117,
   "metadata": {},
   "outputs": [],
   "source": [
    "def corr_table(tup):\n",
    "    dfm, suff1, suff2 = tup\n",
    "    df = dfm.drop('position',axis=1).groupby('transc').corr().iloc[0::2,-1]\n",
    "    df.index = df.index.droplevel(1)\n",
    "    df = df.to_frame()\n",
    "    df.columns = ['R (pearson correlation)']\n",
    "    df['R squared'] = df['R (pearson correlation)']**2\n",
    "    df.to_csv('{}_vs{}_correlation_table.csv'.format(suff1.replace('_',''),suff2))"
   ]
  },
  {
   "cell_type": "code",
   "execution_count": null,
   "metadata": {},
   "outputs": [],
   "source": []
  },
  {
   "cell_type": "markdown",
   "metadata": {},
   "source": [
    "## -a -v 2"
   ]
  },
  {
   "cell_type": "code",
   "execution_count": 118,
   "metadata": {},
   "outputs": [],
   "source": [
    "# replicate SRR948553 alignment with -a\n",
    "R553_a = './SRR948553_BBduk2_NEBtrim-rRNA-bbmap_trim_29-alignment--norc-a-v2-p4/SRR948553_BBduk2_NEBtrim-rRNA-bbmap_trim_29--norc-a-v2-p4-cov_dep.tsv.gz'\n",
    "# replicate SRR948555 alignment with -a\n",
    "R555_a = './SRR948555_BBduk2_NEBtrim-rRNA-bbmap_trim_29-alignment--norc-a-v2-p4/SRR948555_BBduk2_NEBtrim-rRNA-bbmap_trim_29--norc-a-v2-p4-cov_dep.tsv.gz'\n",
    "\n",
    "corr_table(read_and_merge(R553_a,R555_a))"
   ]
  },
  {
   "cell_type": "code",
   "execution_count": 119,
   "metadata": {},
   "outputs": [
    {
     "name": "stdout",
     "output_type": "stream",
     "text": [
      "total 688\r\n",
      "drwxr-xr-x   9 Jackson  staff     306 Jun 28 19:38 \u001b[34m29-mers-orf_coding-FILTERED1-alignment--norc-a-v2-p4\u001b[m\u001b[m\r\n",
      "drwxr-xr-x   9 Jackson  staff     306 Jun 28 19:39 \u001b[34m29-mers-orf_coding-FILTERED1-alignment--norc-k1-v2-p4\u001b[m\u001b[m\r\n",
      "drwxr-xr-x  13 Jackson  staff     442 Jun 28 19:34 \u001b[34m29-mers-orf_coding-FILTERED1-alignment--norc-v2-p4-m1\u001b[m\u001b[m\r\n",
      "-rw-r--r--   1 Jackson  staff  265544 Jul 27 16:43 SRR948553-bb-trim29-a-v2_vs_SRR948555-bb-trim29-a-v2_correlation_table.csv\r\n",
      "drwxr-xr-x  10 Jackson  staff     340 Jul 26 16:28 \u001b[34mSRR948553_BBduk2_NEBtrim-rRNA-bbmap_trim_29-alignment--norc-a-v2-p4\u001b[m\u001b[m\r\n",
      "drwxr-xr-x  10 Jackson  staff     340 Jul 26 16:39 \u001b[34mSRR948553_BBduk2_NEBtrim-rRNA-bbmap_trim_29-alignment--norc-k1-v2-p4\u001b[m\u001b[m\r\n",
      "drwxr-xr-x  14 Jackson  staff     476 Jul 26 16:40 \u001b[34mSRR948553_BBduk2_NEBtrim-rRNA-bbmap_trim_29-alignment--norc-v2-p4-m1\u001b[m\u001b[m\r\n",
      "drwxr-xr-x  10 Jackson  staff     340 Jul 26 16:41 \u001b[34mSRR948555_BBduk2_NEBtrim-rRNA-bbmap_trim_29-alignment--norc-a-v2-p4\u001b[m\u001b[m\r\n",
      "drwxr-xr-x  10 Jackson  staff     340 Jul 26 16:43 \u001b[34mSRR948555_BBduk2_NEBtrim-rRNA-bbmap_trim_29-alignment--norc-k1-v2-p4\u001b[m\u001b[m\r\n",
      "drwxr-xr-x  14 Jackson  staff     476 Jul 26 16:44 \u001b[34mSRR948555_BBduk2_NEBtrim-rRNA-bbmap_trim_29-alignment--norc-v2-p4-m1\u001b[m\u001b[m\r\n",
      "-rw-r--r--   1 Jackson  staff   61235 Jul 27 16:41 Untitled.ipynb\r\n",
      "-rw-r--r--   1 Jackson  staff     842 Jul 26 15:57 bam_files.txt\r\n",
      "-rw-r--r--   1 Jackson  staff     866 Jul 26 16:50 coverage_filepaths.txt\r\n",
      "-rw-r--r--   1 Jackson  staff    8702 Jul 27 13:02 driver.ipynb\r\n",
      "-rw-r--r--   1 Jackson  staff    1502 Jul 27 14:48 readme.md\r\n"
     ]
    }
   ],
   "source": [
    "!ls -l"
   ]
  },
  {
   "cell_type": "markdown",
   "metadata": {},
   "source": [
    "## -m 1 -v 2"
   ]
  },
  {
   "cell_type": "code",
   "execution_count": 120,
   "metadata": {},
   "outputs": [],
   "source": [
    "# replicate SRR948553 alignment with -m 1\n",
    "R553_m1 = './SRR948553_BBduk2_NEBtrim-rRNA-bbmap_trim_29-alignment--norc-v2-p4-m1/SRR948553_BBduk2_NEBtrim-rRNA-bbmap_trim_29--norc-v2-p4-m1-cov_dep.tsv.gz'\n",
    "# replicate SRR948555 alignment with -m 1\n",
    "R555_m1 = './SRR948555_BBduk2_NEBtrim-rRNA-bbmap_trim_29-alignment--norc-v2-p4-m1/SRR948555_BBduk2_NEBtrim-rRNA-bbmap_trim_29--norc-v2-p4-m1-cov_dep.tsv.gz'\n",
    "\n",
    "corr_table(read_and_merge(R553_m1,R555_m1))"
   ]
  },
  {
   "cell_type": "markdown",
   "metadata": {},
   "source": [
    "## -k 1 -v 2"
   ]
  },
  {
   "cell_type": "code",
   "execution_count": 121,
   "metadata": {},
   "outputs": [],
   "source": [
    "# replicate SRR948553 alignment with -a\n",
    "R553_k1 = './SRR948553_BBduk2_NEBtrim-rRNA-bbmap_trim_29-alignment--norc-k1-v2-p4/SRR948553_BBduk2_NEBtrim-rRNA-bbmap_trim_29--norc-k1-v2-p4-cov_dep.tsv.gz'\n",
    "# replicate SRR948555 alignment with -a\n",
    "R555_k1 = './SRR948555_BBduk2_NEBtrim-rRNA-bbmap_trim_29-alignment--norc-k1-v2-p4/SRR948555_BBduk2_NEBtrim-rRNA-bbmap_trim_29--norc-k1-v2-p4-cov_dep.tsv.gz'\n",
    "\n",
    "corr_table(read_and_merge(R553_k1,R555_k1))"
   ]
  },
  {
   "cell_type": "code",
   "execution_count": null,
   "metadata": {},
   "outputs": [],
   "source": []
  },
  {
   "cell_type": "code",
   "execution_count": null,
   "metadata": {},
   "outputs": [],
   "source": [
    "Q0055"
   ]
  },
  {
   "cell_type": "code",
   "execution_count": 122,
   "metadata": {},
   "outputs": [],
   "source": [
    "df1=pd.read_table(R553_a,header = None, names = ['transc','position','cov_depth'])"
   ]
  },
  {
   "cell_type": "code",
   "execution_count": 124,
   "metadata": {},
   "outputs": [
    {
     "data": {
      "text/html": [
       "<div>\n",
       "<style scoped>\n",
       "    .dataframe tbody tr th:only-of-type {\n",
       "        vertical-align: middle;\n",
       "    }\n",
       "\n",
       "    .dataframe tbody tr th {\n",
       "        vertical-align: top;\n",
       "    }\n",
       "\n",
       "    .dataframe thead th {\n",
       "        text-align: right;\n",
       "    }\n",
       "</style>\n",
       "<table border=\"1\" class=\"dataframe\">\n",
       "  <thead>\n",
       "    <tr style=\"text-align: right;\">\n",
       "      <th></th>\n",
       "      <th>position</th>\n",
       "      <th>cov_depth</th>\n",
       "    </tr>\n",
       "  </thead>\n",
       "  <tbody>\n",
       "    <tr>\n",
       "      <th>count</th>\n",
       "      <td>2565.000000</td>\n",
       "      <td>2565.0</td>\n",
       "    </tr>\n",
       "    <tr>\n",
       "      <th>mean</th>\n",
       "      <td>1283.000000</td>\n",
       "      <td>0.0</td>\n",
       "    </tr>\n",
       "    <tr>\n",
       "      <th>std</th>\n",
       "      <td>740.596044</td>\n",
       "      <td>0.0</td>\n",
       "    </tr>\n",
       "    <tr>\n",
       "      <th>min</th>\n",
       "      <td>1.000000</td>\n",
       "      <td>0.0</td>\n",
       "    </tr>\n",
       "    <tr>\n",
       "      <th>25%</th>\n",
       "      <td>642.000000</td>\n",
       "      <td>0.0</td>\n",
       "    </tr>\n",
       "    <tr>\n",
       "      <th>50%</th>\n",
       "      <td>1283.000000</td>\n",
       "      <td>0.0</td>\n",
       "    </tr>\n",
       "    <tr>\n",
       "      <th>75%</th>\n",
       "      <td>1924.000000</td>\n",
       "      <td>0.0</td>\n",
       "    </tr>\n",
       "    <tr>\n",
       "      <th>max</th>\n",
       "      <td>2565.000000</td>\n",
       "      <td>0.0</td>\n",
       "    </tr>\n",
       "  </tbody>\n",
       "</table>\n",
       "</div>"
      ],
      "text/plain": [
       "          position  cov_depth\n",
       "count  2565.000000     2565.0\n",
       "mean   1283.000000        0.0\n",
       "std     740.596044        0.0\n",
       "min       1.000000        0.0\n",
       "25%     642.000000        0.0\n",
       "50%    1283.000000        0.0\n",
       "75%    1924.000000        0.0\n",
       "max    2565.000000        0.0"
      ]
     },
     "execution_count": 124,
     "metadata": {},
     "output_type": "execute_result"
    }
   ],
   "source": [
    "df1[df1['transc']=='Q0055'].describe()"
   ]
  },
  {
   "cell_type": "code",
   "execution_count": 131,
   "metadata": {},
   "outputs": [],
   "source": [
    "df2 = df1[df1['transc']=='Q0055'].copy()"
   ]
  },
  {
   "cell_type": "code",
   "execution_count": 132,
   "metadata": {},
   "outputs": [],
   "source": [
    "df2['cov_depth2'] = df2['cov_depth']"
   ]
  },
  {
   "cell_type": "code",
   "execution_count": 134,
   "metadata": {},
   "outputs": [
    {
     "data": {
      "text/html": [
       "<div>\n",
       "<style scoped>\n",
       "    .dataframe tbody tr th:only-of-type {\n",
       "        vertical-align: middle;\n",
       "    }\n",
       "\n",
       "    .dataframe tbody tr th {\n",
       "        vertical-align: top;\n",
       "    }\n",
       "\n",
       "    .dataframe thead th {\n",
       "        text-align: right;\n",
       "    }\n",
       "</style>\n",
       "<table border=\"1\" class=\"dataframe\">\n",
       "  <thead>\n",
       "    <tr style=\"text-align: right;\">\n",
       "      <th></th>\n",
       "      <th>cov_depth</th>\n",
       "      <th>cov_depth2</th>\n",
       "    </tr>\n",
       "  </thead>\n",
       "  <tbody>\n",
       "    <tr>\n",
       "      <th>cov_depth</th>\n",
       "      <td>NaN</td>\n",
       "      <td>NaN</td>\n",
       "    </tr>\n",
       "    <tr>\n",
       "      <th>cov_depth2</th>\n",
       "      <td>NaN</td>\n",
       "      <td>NaN</td>\n",
       "    </tr>\n",
       "  </tbody>\n",
       "</table>\n",
       "</div>"
      ],
      "text/plain": [
       "            cov_depth  cov_depth2\n",
       "cov_depth         NaN         NaN\n",
       "cov_depth2        NaN         NaN"
      ]
     },
     "execution_count": 134,
     "metadata": {},
     "output_type": "execute_result"
    }
   ],
   "source": [
    "df2[['cov_depth','cov_depth2']].corr()"
   ]
  },
  {
   "cell_type": "code",
   "execution_count": null,
   "metadata": {},
   "outputs": [],
   "source": []
  }
 ],
 "metadata": {
  "kernelspec": {
   "display_name": "Python 3",
   "language": "python",
   "name": "python3"
  },
  "language_info": {
   "codemirror_mode": {
    "name": "ipython",
    "version": 3
   },
   "file_extension": ".py",
   "mimetype": "text/x-python",
   "name": "python",
   "nbconvert_exporter": "python",
   "pygments_lexer": "ipython3",
   "version": "3.6.4"
  }
 },
 "nbformat": 4,
 "nbformat_minor": 2
}
